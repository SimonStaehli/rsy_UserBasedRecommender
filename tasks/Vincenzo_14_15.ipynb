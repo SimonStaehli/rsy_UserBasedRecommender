{
 "cells": [
  {
   "cell_type": "code",
   "execution_count": 12,
   "id": "46b239b6-b84a-4c33-b4b9-022018e2290b",
   "metadata": {},
   "outputs": [
    {
     "name": "stderr",
     "output_type": "stream",
     "text": [
      "Warning message:\n",
      "\"package 'arules' is not available (for R version 3.6.1)\"Warning message:\n",
      "\"dependencies 'arules', 'irlba' are not available\""
     ]
    },
    {
     "name": "stdout",
     "output_type": "stream",
     "text": [
      "\n",
      "  There are binary versions available but the source versions are later:\n",
      "        binary source needs_compilation\n",
      "dplyr    1.0.6  1.0.7              TRUE\n",
      "ggplot2  3.3.3  3.3.5             FALSE\n",
      "tidyr    1.1.3  1.1.4              TRUE\n",
      "coop     0.6-2  0.6-3              TRUE\n",
      "\n",
      "  Binaries will be installed\n",
      "package 'recommenderlab' successfully unpacked and MD5 sums checked\n",
      "package 'dplyr' successfully unpacked and MD5 sums checked\n",
      "package 'ggridges' successfully unpacked and MD5 sums checked\n",
      "package 'tidyr' successfully unpacked and MD5 sums checked\n",
      "package 'coop' successfully unpacked and MD5 sums checked\n",
      "package 'gridExtra' successfully unpacked and MD5 sums checked\n",
      "package 'reshape2' successfully unpacked and MD5 sums checked\n",
      "\n",
      "The downloaded binary packages are in\n",
      "\tC:\\Users\\vince\\AppData\\Local\\Temp\\RtmpMbiQYq\\downloaded_packages\n"
     ]
    },
    {
     "name": "stderr",
     "output_type": "stream",
     "text": [
      "installing the source package 'ggplot2'\n",
      "\n"
     ]
    }
   ],
   "source": [
    "install.packages(c(\"arules\", \"recommenderlab\", \"dplyr\", \"ggplot2\", \"ggridges\", \"tidyr\", \"coop\", \"gridExtra\", \"reshape2\"),repos='http://cran.us.r-project.org')"
   ]
  },
  {
   "cell_type": "code",
   "execution_count": 9,
   "id": "0447a5e8-4dce-4318-ac90-b51d57925cf7",
   "metadata": {},
   "outputs": [
    {
     "name": "stderr",
     "output_type": "stream",
     "text": [
      "Warning message:\n",
      "\"package 'recommenderlab' was built under R version 3.6.3\""
     ]
    },
    {
     "ename": "ERROR",
     "evalue": "Error: package 'arules' required by 'recommenderlab' could not be found\n",
     "output_type": "error",
     "traceback": [
      "Error: package 'arules' required by 'recommenderlab' could not be found\nTraceback:\n",
      "1. library(recommenderlab)",
      "2. .getRequiredPackages2(pkgInfo, quietly = quietly)",
      "3. stop(gettextf(\"package %s required by %s could not be found\", \n .     sQuote(pkg), sQuote(pkgname)), call. = FALSE, domain = NA)"
     ]
    }
   ],
   "source": [
    "library(recommenderlab)\n",
    "library(dplyr)\n",
    "library(ggplot2)\n",
    "library(ggridges)\n",
    "library(tidyr)\n",
    "library(coop)\n",
    "library(gridExtra)\n",
    "library(reshape2)"
   ]
  },
  {
   "cell_type": "markdown",
   "id": "e1bd5edc-5ae5-42f2-a463-9c902190be3c",
   "metadata": {},
   "source": [
    "Aufgabe: Reduziere den MovieLense Datensatz auf rund 400 Kunden \n",
    "und 700 Filme, indem du Filme und Kunden  mit sehr wenigen Ratings \n",
    "entfernst.\n",
    "Untersuche und dokumentiere die Eigenschaften des reduzierten \n",
    "Datensatzes und beschreibe den Effekt der Datenreduktion:\n",
    "  1.Anzahl Filme und Kunden sowie Sparsity vor und nach Datenreduktion"
   ]
  },
  {
   "cell_type": "code",
   "execution_count": 7,
   "id": "f3f0d1d2-fdac-442d-b1d7-b3b21b12d86b",
   "metadata": {},
   "outputs": [
    {
     "name": "stderr",
     "output_type": "stream",
     "text": [
      "Warning message in data(MovieLense):\n",
      "\"data set 'MovieLense' not found\"Loading required package: recommenderlab\n",
      "Warning message:\n",
      "\"package 'recommenderlab' was built under R version 3.6.3\""
     ]
    },
    {
     "ename": "ERROR",
     "evalue": "Error in .requirePackage(package): unable to find required package 'recommenderlab'\n",
     "output_type": "error",
     "traceback": [
      "Error in .requirePackage(package): unable to find required package 'recommenderlab'\nTraceback:\n",
      "1. as(MovieLense, \"data.frame\")",
      "2. .classEnv(thisClass, mustFind = FALSE)",
      "3. .requirePackage(package)",
      "4. stop(gettextf(\"unable to find required package %s\", sQuote(package)), \n .     domain = NA)"
     ]
    }
   ],
   "source": [
    "data(MovieLense)\n",
    "MovieLense_df <- as(MovieLense, \"data.frame\")\n",
    "MovieLenseMeta_df <- as(MovieLenseMeta, \"data.frame\")\n",
    "MOVIE_MIN_RATED = 700\n",
    "USER_MIN_RATED = 400\n",
    "SEED = 42\n",
    "set.seed(SEED)\n",
    "\n",
    "movies_min_rated <- MovieLense_df %>%\n",
    "  count(item) %>%\n",
    "  arrange(desc(n)) %>%\n",
    "  head(MOVIE_MIN_RATED) %>%\n",
    "  select(item)\n",
    "\n",
    "MovieLense_user_movies_reduced_df <- MovieLense_df %>%\n",
    "  inner_join(movies_min_rated, by='item')\n",
    "\n",
    "user_min_movies_rated <- MovieLense_user_movies_reduced_df %>%\n",
    "  count(user) %>%\n",
    "  arrange(desc(n)) %>%\n",
    "  head(USER_MIN_RATED) %>%\n",
    "  select(user)\n",
    "\n",
    "MovieLense_user_movies_reduced_df <- MovieLense_user_movies_reduced_df %>%\n",
    "  inner_join(user_min_movies_rated, by='user') \n",
    "\n",
    "Movie_Genre <- MovieLenseMeta %>%\n",
    "  pivot_longer(cols=c(unknown:Western)) %>%\n",
    "  filter(value==1) %>% \n",
    "  rename(genre = name)"
   ]
  },
  {
   "cell_type": "markdown",
   "id": "6a4bf677-063d-40f8-be66-675028fcb14e",
   "metadata": {},
   "source": [
    "Aufgabe DIY: Implementiere Funktionen für die Beurteilung der Top-N \n",
    "Metriken Precision und Recall sowie für alle Kunden  der Item-space \n",
    "Coverage und Novelty und teste diese mit IBCF Recommendations \n",
    "(Basis: reduzierter Datensatz; N = 5, 10, 15, 20, 25, 30).\n",
    "\n",
    "\n",
    "1.Implementiere eine Funktion, um aus Top-N Listen für alle Kunden die Item-\n",
    "space Coverage@N und Novelty@N eines Recommenders zu beurteilen und \n",
    "teste diese."
   ]
  },
  {
   "cell_type": "code",
   "execution_count": null,
   "id": "f1dd31c4-7b9b-4ccb-9641-43f868cf9bc9",
   "metadata": {},
   "outputs": [],
   "source": [
    "set.seed(SEED)\n",
    "eval_reduced <- recommenderlab::evaluationScheme(data = coerce(MovieLense_user_movies_reduced_df, MovieLense), \n",
    "                                                 method=\"split\", train=0.8, given=3)\n",
    "\n",
    "\n",
    "IBCF_reduced <- Recommender(data = getData(eval_reduced, \"train\"), method = \"IBCF\", \n",
    "                            parameter = list(k = 3, method = \"Cosine\", na_as_zero=TRUE))\n"
   ]
  },
  {
   "cell_type": "code",
   "execution_count": null,
   "id": "d44844b4-b703-4d6a-8e91-ee4ee4691a5d",
   "metadata": {},
   "outputs": [],
   "source": [
    "top_n_to_df <- function(top_n){\n",
    "  #' @description Function to transform a TopNList object to a data.frame object.\n",
    "  #' @param topn Topn List\n",
    "  topn_df <- data.frame(user = names(as(top_n, 'list')), \n",
    "    rating = unlist(top_n@ratings), index = unlist(top_n@items))\n",
    "\n",
    "  topn_df$item <- top_n@itemLabels[topn_df$index]\n",
    "  topn_df$year <- MovieLenseMeta$year[topn_df$index]\n",
    "  topn_df <- topn_df[order(topn_df$user),]\n",
    "  topn_df\n",
    "}\n",
    "\n",
    "calc_coverage <- function(top_n, n_movies=1664){\n",
    "  #' @description Function, which returns coverage \n",
    "  #' @param top_n Top_n list generated by `recommenderlab::predict`\n",
    "  #' @param n_movies How many total movies there are. In the MovielenseDB, there are 1664 Movies.\n",
    "  top_n = as(top_n, 'list')\n",
    "  unique_pred_movies = unique(unlist(top_n, recursive = FALSE))\n",
    "  n_unique_pred_movies = length(unique_pred_movies)\n",
    "    \n",
    "  return (n_unique_pred_movies / n_movies)\n",
    "}\n",
    "\n",
    "calc_popularity <- function(MovieLenseData, n_movies=1664){\n",
    "  #' @description Function, which returns coverage as described here: https://ds-spaces.technik.fhnw.ch/6rsy/2021/05/02/recommender-system-evaluierung-coverage-und-novelty/\n",
    "  #' @param MovieLenseData Movielense data.frame, containing how a user has rated a movie.\n",
    "  #' @param n_movies How many total movies there are. In the MovielenseDB, there are 1664 Movies.\n",
    "  \n",
    "  popularity_movie <- MovieLenseData %>%\n",
    "    count(item) %>%\n",
    "    mutate(popularity = log2(n / n_movies)) %>%\n",
    "    select(item, popularity)\n",
    "  return (popularity_movie)\n",
    "  \n",
    "}\n",
    "calc_novelty <- function(top_n, MovieLenseData, n_movies=1664){\n",
    "  #' @description Function, which returns novelty as described here: https://ds-spaces.technik.fhnw.ch/6rsy/2021/05/02/recommender-system-evaluierung-coverage-und-novelty/\n",
    "  #' @param top_n Top_n list generated by `recommenderlab::predict`\n",
    "  #' @param MovieLenseData MovieLense Dataset as data.frame\n",
    "  #' @param n_movies How many total movies there are. In the MovielenseDB, there are 1664 Movies.\n",
    "  popularity = calc_popularity(MovieLenseData, n_movies) \n",
    "  \n",
    "  top_n_df <- top_n_to_df(top_n)\n",
    "    \n",
    "  group_size_user = top_n_df %>%\n",
    "    group_by(user) %>%\n",
    "    summarise(n = n()) %>%\n",
    "    select(user, n)\n",
    "  \n",
    "  top_n_df <- top_n_df %>%\n",
    "    left_join(group_size_user, by = 'user')\n",
    "  \n",
    "  top_n_popularity_df <- top_n_df %>%\n",
    "    inner_join(popularity, by = 'item') %>%\n",
    "    mutate(popularity = popularity / n)\n",
    "  \n",
    "  novelty = sum(top_n_popularity_df$popularity)\n",
    "  \n",
    "  S = length(unique(MovieLenseData$user))\n",
    "  \n",
    "  novelty = - novelty / S\n",
    "  \n",
    "  return (novelty)\n",
    "}"
   ]
  },
  {
   "cell_type": "code",
   "execution_count": null,
   "id": "4697fc75-cd8d-4164-a1de-22bd82f57428",
   "metadata": {},
   "outputs": [],
   "source": [
    "top_n = predict(object = IBCF_reduced, newdata = getData(eval_reduced, \"unknown\"), n = 15)"
   ]
  },
  {
   "cell_type": "code",
   "execution_count": null,
   "id": "a46620c6-843d-4582-8d6a-6148ab159e3e",
   "metadata": {},
   "outputs": [],
   "source": [
    "calc_coverage(top_n)\n",
    "calc_novelty(top_n, MovieLense_df)"
   ]
  },
  {
   "cell_type": "code",
   "execution_count": null,
   "id": "2d9b3e61-fdf1-43df-9644-6063bf21fa1a",
   "metadata": {},
   "outputs": [],
   "source": [
    "n_list = c(3, 5, 9, 15)\n",
    "given_list = c(3, 5, 15)\n",
    "dim_svd = c(5, 20, 30)"
   ]
  },
  {
   "cell_type": "code",
   "execution_count": null,
   "id": "5c029363-ee70-4420-9044-7a5e7fae9a44",
   "metadata": {},
   "outputs": [],
   "source": [
    "# Test coverage and novelty on 5, 10, 15, 20, 25 and 30 top_n predictions.\n",
    "\n",
    "coverage <- matrix(, nrow = length(n_list), ncol = length(given_list), dimnames=list(n_list,given_list))\n",
    "novelty <- matrix(, nrow = length(n_list), ncol = length(given_list), dimnames=list(n_list,given_list))\n",
    "\n",
    "for(n in 1:length(n_list)){\n",
    "    for (g in 1:length(given_list)){\n",
    "    eval_reduced <- recommenderlab::evaluationScheme(data = coerce(MovieLense_user_movies_reduced_df, MovieLense), \n",
    "                                             method=\"split\", train=0.8, k = 3, given=g)\n",
    "        \n",
    "    IBCF_reduced <- Recommender(data = getData(eval_reduced, \"train\"), method = \"IBCF\", \n",
    "                            parameter = list(method = \"Cosine\", na_as_zero=TRUE, normalize='center'))\n",
    "    \n",
    "    top_n = predict(object = IBCF_reduced, newdata = getData(eval_reduced, \"unknown\"), n = n)\n",
    "    coverage[n, g] = calc_coverage(top_n)\n",
    "    novelty[n, g] = calc_novelty(top_n, MovieLense_df)\n",
    "        }\n",
    "}\n"
   ]
  },
  {
   "cell_type": "code",
   "execution_count": null,
   "id": "2bd1f816-dcfc-4130-9718-84bb960f7cc9",
   "metadata": {},
   "outputs": [],
   "source": [
    "coverage"
   ]
  },
  {
   "cell_type": "markdown",
   "id": "36a43203-b6d3-489c-93ee-a53c314d5884",
   "metadata": {},
   "source": [
    "Man sieht, dass bei der Coverage der Parameter N einen grossen Einfluss hat. Dagegen hat der Parameter \"Given\" einen kleineren Einfluss. Wenn man also die Coverage maximieren will, sollte man ein grössmöchglistes N wählen."
   ]
  },
  {
   "cell_type": "code",
   "execution_count": null,
   "id": "dcae96e4-1c0e-4cde-88ba-f2a03de9e0d0",
   "metadata": {},
   "outputs": [],
   "source": [
    "novelty"
   ]
  },
  {
   "cell_type": "markdown",
   "id": "da443583-cf6e-44e7-b755-9feef5489ab0",
   "metadata": {},
   "source": [
    "Die Novelty verändert sich wenig zwischen den Paramater. Dies ergibt aber auch Sinn, da wenn ein Model Grundlegend keine unbekannten Filme empfiehlt, ändert die Top N Liste auch nur wenig dran."
   ]
  },
  {
   "cell_type": "code",
   "execution_count": null,
   "id": "63f55d39-0d2e-4867-94b4-2e1b213c4934",
   "metadata": {},
   "outputs": [],
   "source": [
    "avg_to_df <- function(evlist, n){\n",
    "  #' @description gets the confusion matices from `evlist` and transforms it to a single data.frame\n",
    "  #' @param evlist evaluationResultList\n",
    "  #' @return data.frame confusion matrix with all recommenders as rec and number of recommendations as n\n",
    "  evaluation_avg <- data.frame()\n",
    "  for (i in 1:length(evlist)){\n",
    "    current_avg <- as.data.frame(avg(evlist[i]))\n",
    "    colnames(current_avg) <- c('TP','FP','FN','TN','N', 'precision','recall','TPR','FPR', 'n')\n",
    "    current_avg$specificity <- current_avg$TN * (current_avg$TN + current_avg$FP)**-1\n",
    "    current_avg$n <- n\n",
    "    rownames(current_avg) <- NULL\n",
    "    current_avg$rec <- names(evlist)[i]\n",
    "    evaluation_avg <- rbind(evaluation_avg, current_avg)\n",
    "  }\n",
    "  return(evaluation_avg)\n",
    "}\n",
    "plot_percision_recall <- function(evaluation_avg){\n",
    "  #' @description plots the percision recall curve with the according number of predictions\n",
    "  #' @param evaluation_avg data.frame from avg_to_df\n",
    "  ggplot(evaluation_avg, aes(x=precision, y=recall, label=n)) +\n",
    "    geom_line(aes(color=rec)) +\n",
    "    geom_text() +\n",
    "    scale_color_manual(values=1:length(evaluation_avg)) +\n",
    "    ggtitle('Precision Recall Curve') +\n",
    "    xlab('precision') +\n",
    "    ylab('recall')\n",
    "}\n"
   ]
  },
  {
   "cell_type": "code",
   "execution_count": null,
   "id": "9a45a4eb-4c97-4783-bae6-b228815ab06c",
   "metadata": {},
   "outputs": [],
   "source": []
  },
  {
   "cell_type": "markdown",
   "id": "eec62764-6462-4a3a-8750-b47fa40fe625",
   "metadata": {},
   "source": [
    "## Implementierung Top-N Monitor\n",
    "Aufgabe DIY: Untersuche die relative Übereinstimmung zwischen Top-\n",
    "N Empfehlungen und präferierten Filmen für 4 unterschiedliche \n",
    "Modelle (z.B. IBCF und UBCF mit unterschiedlichen  Ähnlichkeits-\n",
    "metriken / Nachbarschaften sowie SVD mit unterschiedlicher \n",
    "Dimensionalitätsreduktion).\n",
    "\n",
    "### 1.Fixiere 20 zufällig gewählte Testkunden für alle Modellvergleiche"
   ]
  },
  {
   "cell_type": "code",
   "execution_count": null,
   "id": "4b8671b4-3220-4423-b0ee-558d599aacd7",
   "metadata": {},
   "outputs": [],
   "source": [
    "set.seed(SEED)\n",
    "random_user_idx = floor(runif(20, min=0, max=nrow(getData(eval_reduced, \"unknown\"))+1))\n",
    "test_user_selected = getData(eval_reduced, \"unknown\")[random_user_idx]"
   ]
  },
  {
   "cell_type": "markdown",
   "id": "ebc9706a-4d35-49a3-8ba8-2b565b0d663c",
   "metadata": {},
   "source": [
    "### 2.Bestimme den Anteil der Top-N Empfehlung nach Genres pro Kunde\n",
    "Zuerst schauen wir, basierend auf Precision, Recall, Novelty und Coverage, welche Modelle überhaupt interessant sind."
   ]
  },
  {
   "cell_type": "code",
   "execution_count": null,
   "id": "a2db16e9-8c61-4443-bdac-ea76123544c3",
   "metadata": {},
   "outputs": [],
   "source": [
    "# Random Users:\n",
    "set.seed(42)\n",
    "\n",
    "algorithms <- list(\n",
    "    \"IBCF, z-score, cos\" = list(name=\"IBCF\", param=list(normalize = \"Z-score\",\n",
    "                                                   method = 'cosine')),\n",
    "    \"IBCF, z-score, jac\" = list(name=\"IBCF\", param=list(normalize = \"Z-score\",\n",
    "                                                   method = 'jaccard')),\n",
    "    \"IBCF, center, cos\" = list(name=\"IBCF\", param=list(normalize = \"center\",\n",
    "                                                 method = 'cosine')),\n",
    "    \"IBCF, center, jac\" = list(name=\"IBCF\", param=list(normalize = \"center\",\n",
    "                                                 method = 'jaccard')),\n",
    "    \"UBCF, z-score, cos\" = list(name=\"UBCF\", param=list(normalize = \"Z-score\",\n",
    "                                                   method = 'cosine')),\n",
    "    \"UBCF, z-score, jac\" = list(name=\"UBCF\", param=list(normalize = \"Z-score\",\n",
    "                                                   method = 'jaccard')),\n",
    "    \"UBCF, center, cos\" = list(name=\"UBCF\", param=list(normalize = \"center\",\n",
    "                                                 method = 'cosine')),\n",
    "    \"UBCF, center, jac\" = list(name=\"UBCF\", param=list(normalize = \"center\",\n",
    "                                                       method = 'jaccard')), \n",
    "    \"SVD, 2\" = list(name='SVD', param=list(k=2)),\n",
    "    \"SVD, 5\" = list(name='SVD', param=list(k=5)),\n",
    "    \"SVD, 10\" = list(name='SVD', param=list(k=10)),\n",
    "    \"SVD, 20\" = list(name='SVD', param=list(k=20))\n",
    ")\n"
   ]
  },
  {
   "cell_type": "code",
   "execution_count": null,
   "id": "70472a10-8708-4a36-acc3-684ff5a2bed3",
   "metadata": {},
   "outputs": [],
   "source": [
    "Experimente mit NN und given und good rating."
   ]
  },
  {
   "cell_type": "code",
   "execution_count": null,
   "id": "03642811-0d07-4a0e-a047-2b359ef07d1d",
   "metadata": {},
   "outputs": [],
   "source": [
    "set.seed(SEED)\n",
    "# Let's check some algorithms against each other\n",
    "scheme <- recommenderlab::evaluationScheme(coerce(MovieLense_user_movies_reduced_df,MovieLense) , method = \"split\", train = 0.8, k=3, \n",
    "                          given = 3, goodRating = 4)\n",
    "\n",
    "\n",
    "# run algorithms, predict next n movies\n",
    "n = c(3, 5, 10, 15, 20, 25, 30)\n",
    "results <- evaluate(scheme, algorithms, n=n, progress=FALSE)\n",
    "\n",
    "# Draw ROC curve\n",
    "plot(results, annotate = c(1,5,9), legend=\"topleft\")\n",
    "\n",
    "# See precision / recall\n",
    "plot(results, \"prec/rec\", annotate=c(1,5,9))"
   ]
  },
  {
   "cell_type": "markdown",
   "id": "7e786299-4746-49d6-9b5f-d6f1f8033ddb",
   "metadata": {},
   "source": [
    "SVD: \n",
    "\n",
    "Interessanterweise ist SVD reduziert auf zwei dimensionen am besten.\n",
    "\n",
    "Precision und Recall ist wie bekannt ein Trade-Off. Man darf das N bei Top N aber nicht zu hoch wählen, da die FPR schneller zunimmt als bei anderen Modellen. SVD ist aber sehr eindrucksvoll, vorallem bei einem kleinen N.\n",
    "\n",
    "\n",
    "IBCF:\n",
    "\n",
    "Dieses Modell ist beim Tradeoff mit Precision und Recall stark, im Allgemeinen aber eher schlecht. Ggf gibt es Anwendungen, wenn man Recall reduzieren und Precision maximieren möchte.\n",
    "\n",
    "UBCF: Verglichen mit SVD hat es für jedes N eine ähnliche FPR und eine niedrigere TPR, es ist also im Schnitt schlechter als SVD\n",
    "\n",
    "Bei UBCF nimmt die Precision und Recall gleichzeitig zu bei einem höheren N. Im nächsten Schritt schauen wir uns noch die Paramter NN, \"given\" und \"good rating\" an von den Modellen mit dem höchsten Precision-Wert. Das wäre also ein eher niedriges N und bei UBCF z-score normalisierung mit Cosine Similarity. "
   ]
  },
  {
   "cell_type": "code",
   "execution_count": null,
   "id": "1c740253-1e17-49be-86b8-c3e532e8062c",
   "metadata": {},
   "outputs": [],
   "source": [
    "# Random Users:\n",
    "set.seed(42)\n",
    "\n",
    "algorithms <- list(\n",
    "    \"UBCF, z-score, cos\" = list(name=\"UBCF\", param=list(normalize = \"Z-score\",\n",
    "                                                   method = 'cosine')),\n",
    "    \"SVD, 2\" = list(name='SVD', param=list(k=2))\n",
    ")\n"
   ]
  },
  {
   "cell_type": "code",
   "execution_count": null,
   "id": "d344e010-6744-4354-b790-feb1f54061a1",
   "metadata": {},
   "outputs": [],
   "source": [
    "getResults(results)"
   ]
  },
  {
   "cell_type": "code",
   "execution_count": null,
   "id": "cba3328a-86e7-4f7b-8338-2ef3d5dd3fe1",
   "metadata": {},
   "outputs": [],
   "source": [
    "# GOOD_RATING_VALUE\n",
    "good_rating = 2.5\n",
    "\n",
    "print(paste(\"Good Rating Value: \", good_rating))\n",
    "# Let's check some algorithms against each other\n",
    "scheme <- recommenderlab::evaluationScheme(coerce(MovieLense_user_movies_reduced_df,MovieLense) , method = \"split\", train = 0.8, k=3, \n",
    "                          given = 3, goodRating = good_rating)\n",
    "\n",
    "\n",
    "# run algorithms, predict next n movies\n",
    "n = c(3, 5, 10, 15, 20, 25, 30)\n",
    "results <- evaluate(scheme, algorithms, n=n, progress = FALSE)\n",
    "\n",
    "# Draw ROC curve\n",
    "plot(results, annotate = c(1, 2), legend=\"topleft\", main = paste(\"Good Rating Value: \", good_rating))\n",
    "\n",
    "# See precision / recall\n",
    "#plot(results, \"prec/rec\", annotate=c(1,2), main = paste(\"Good Rating Value: \", good_rating))"
   ]
  },
  {
   "cell_type": "code",
   "execution_count": null,
   "id": "2cddf6b8-b7d5-4470-9144-f8b6b626515a",
   "metadata": {},
   "outputs": [],
   "source": [
    "# GOOD_RATING_VALUE\n",
    "good_rating = 3\n",
    "\n",
    "print(paste(\"Good Rating Value: \", good_rating))\n",
    "# Let's check some algorithms against each other\n",
    "scheme <- recommenderlab::evaluationScheme(coerce(MovieLense_user_movies_reduced_df,MovieLense) , method = \"split\", train = 0.8, k=3, \n",
    "                          given = 3, goodRating = good_rating)\n",
    "\n",
    "\n",
    "# run algorithms, predict next n movies\n",
    "n = c(3, 5, 10, 15, 20, 25, 30)\n",
    "results <- evaluate(scheme, algorithms, n=n, progress = FALSE)\n",
    "\n",
    "# Draw ROC curve\n",
    "plot(results, annotate = c(1, 2), legend=\"topleft\", main = paste(\"Good Rating Value: \", good_rating))\n",
    "\n",
    "# See precision / recall\n",
    "#plot(results, \"prec/rec\", annotate=c(1,2), main = paste(\"Good Rating Value: \", good_rating))"
   ]
  },
  {
   "cell_type": "code",
   "execution_count": null,
   "id": "3e887063-5d5b-4750-b2e6-76a0e07cac79",
   "metadata": {},
   "outputs": [],
   "source": [
    "# GOOD_RATING_VALUE\n",
    "good_rating = 4\n",
    "\n",
    "print(paste(\"Good Rating Value: \", good_rating))\n",
    "# Let's check some algorithms against each other\n",
    "scheme <- recommenderlab::evaluationScheme(coerce(MovieLense_user_movies_reduced_df,MovieLense) , method = \"split\", train = 0.8, k=3, \n",
    "                          given = 3, goodRating = good_rating)\n",
    "\n",
    "\n",
    "# run algorithms, predict next n movies\n",
    "n = c(3, 5, 10, 15, 20, 25, 30)\n",
    "results <- evaluate(scheme, algorithms, n=n, progress = FALSE)\n",
    "\n",
    "# Draw ROC curve\n",
    "plot(results, annotate = c(1, 2), legend=\"topleft\", main = paste(\"Good Rating Value: \", good_rating))\n",
    "\n",
    "# See precision / recall\n",
    "#plot(results, \"prec/rec\", annotate=c(1,2), main = paste(\"Good Rating Value: \", good_rating))"
   ]
  },
  {
   "cell_type": "code",
   "execution_count": null,
   "id": "ea3a363e-27dd-4d0e-be80-90b3904a01bc",
   "metadata": {},
   "outputs": [],
   "source": [
    "top_n_genres <- function(top_n, Movie_Genre, col_name){\n",
    "    #' @algorithms top_n generated by recommenderlab::predict\n",
    "    #' @Movie_Genre Movie_Genre melted MovieLenseData, containing at least the genre and the title of a movie\n",
    "    #' @col_name name for copy of percentages of genres (for easier comparison between different models).\n",
    "    #' @returns genres of users in the top_n list\n",
    "    top_n = top_n_to_df(top_n)\n",
    "    Movie_Genre$item = Movie_Genre$title\n",
    "    genres_top_n <- top_n %>%\n",
    "        left_join(Movie_Genre, by='item') %>%\n",
    "        group_by(user, genre)  %>%\n",
    "        summarise(n = n()) %>% \n",
    "        mutate(percent =  100 *n/sum(n))\n",
    "    genres_top_n[,col_name] = genres_top_n$percent\n",
    "    return (genres_top_n)\n",
    "}"
   ]
  },
  {
   "cell_type": "code",
   "execution_count": null,
   "id": "4f5d411a-18fc-4e24-9e29-3f4d89af356d",
   "metadata": {},
   "outputs": [],
   "source": [
    "set.seed(SEED)\n",
    "eval_reduced <- recommenderlab::evaluationScheme(data = coerce(MovieLense_user_movies_reduced_df, MovieLense), \n",
    "                                                 method=\"split\", train=0.8, given=3)\n",
    "\n",
    "\n",
    "recommender <- Recommender(data = getData(eval_reduced, \"train\"), method = \"IBCF\", \n",
    "                            parameter = list( method = \"Cosine\", na_as_zero=TRUE))\n",
    "\n",
    "top_n = predict(recommender, test_user_selected, n=15)"
   ]
  },
  {
   "cell_type": "code",
   "execution_count": null,
   "id": "810d77f3-1b0c-468f-a677-6f85c97ffb6c",
   "metadata": {},
   "outputs": [],
   "source": [
    "IBCF_top_genre = top_n_genres(top_n, Movie_Genre, 'IBCFCos')"
   ]
  },
  {
   "cell_type": "code",
   "execution_count": null,
   "id": "6a47c388-b81b-4d2a-b63c-3549b0ab3cbb",
   "metadata": {},
   "outputs": [],
   "source": [
    "ggplot(IBCF_top_genre, aes(x = user, y = percent, fill = genre)) +\n",
    " geom_col() + labs(title = \"IBCF Cosine: Genre of highly rated Movies per User in the Top N list\")"
   ]
  },
  {
   "cell_type": "code",
   "execution_count": null,
   "id": "bfa0e67c-4b24-46c2-8315-482f6e1430bc",
   "metadata": {},
   "outputs": [],
   "source": [
    "set.seed(SEED)\n",
    "eval_reduced <- recommenderlab::evaluationScheme(data = coerce(MovieLense_user_movies_reduced_df, MovieLense), \n",
    "                                                 method=\"split\", train=0.8, given=3)\n",
    "\n",
    "recommender <- Recommender(data = getData(eval_reduced, \"train\"), method = \"UBCF\", \n",
    "                            parameter = list(nn = 25, method = \"Cosine\"))\n",
    "\n",
    "top_n = predict(recommender, test_user_selected, n=15)\n",
    "UBCF_cos_top_genre = top_n_genres(top_n, Movie_Genre, 'UBCFCos')"
   ]
  },
  {
   "cell_type": "code",
   "execution_count": null,
   "id": "766fdf6c-77c8-4e62-b2ed-d279bb0ce28a",
   "metadata": {},
   "outputs": [],
   "source": [
    "ggplot(UBCF_cos_top_genre, aes(x = user, y = percent, fill = genre)) +\n",
    " geom_col() + labs(title = \"UBCF Cosine: Genre of highly rated Movies per User in the Top N list\")"
   ]
  },
  {
   "cell_type": "code",
   "execution_count": null,
   "id": "346ce393-93a0-4ac6-a0b8-4a0eeb7f72ed",
   "metadata": {},
   "outputs": [],
   "source": [
    "set.seed(SEED)\n",
    "eval_reduced <- recommenderlab::evaluationScheme(data = coerce(MovieLense_user_movies_reduced_df, MovieLense), \n",
    "                                                 method=\"split\", train=0.8, given=3)\n",
    "\n",
    "\n",
    "recommender <- Recommender(data = getData(eval_reduced, \"train\"), method = \"UBCF\", \n",
    "                            parameter = list(nn = 25, method = \"Jaccard\"))\n",
    "\n",
    "top_n = predict(recommender, test_user_selected, n=15)\n",
    "UBCF_jacc_top_n_genre = top_n_genres(top_n, Movie_Genre, 'UBCFJacc')"
   ]
  },
  {
   "cell_type": "code",
   "execution_count": null,
   "id": "0adf1c00-0a95-42bf-866e-b1d05e6e7bb1",
   "metadata": {},
   "outputs": [],
   "source": [
    "ggplot(UBCF_jacc_top_n_genre, aes(x = user, y = percent, fill = genre)) +\n",
    " geom_col() + labs(title = \"UBCF Jaccard: Genre of highly rated Movies per User in the Top N list\")"
   ]
  },
  {
   "cell_type": "code",
   "execution_count": null,
   "id": "b921b3a7-d462-4f37-bdb8-f20212bd2ab7",
   "metadata": {},
   "outputs": [],
   "source": [
    "set.seed(SEED)\n",
    "eval_reduced <- recommenderlab::evaluationScheme(data = coerce(MovieLense_user_movies_reduced_df, MovieLense), \n",
    "                                                 method=\"split\", train=0.8, given=3)\n",
    "\n",
    "\n",
    "recommender <- Recommender(data = getData(eval_reduced, \"train\"), method = \"SVD\", \n",
    "                            parameter = list(k = 5))\n",
    "\n",
    "top_n = predict(recommender, test_user_selected, n=15)\n",
    "SVD_5_top_n_genre = top_n_genres(top_n, Movie_Genre, 'SVD5')"
   ]
  },
  {
   "cell_type": "code",
   "execution_count": null,
   "id": "5fcc71eb-5200-4952-a78a-825cb5c87be7",
   "metadata": {},
   "outputs": [],
   "source": [
    "ggplot(SVD_5_top_n_genre, aes(x = user, y = percent, fill = genre)) +\n",
    " geom_col() + labs(title = \"SVD 5: Genre of highly rated Movies per User in the Top N list\")"
   ]
  },
  {
   "cell_type": "code",
   "execution_count": null,
   "id": "6c624535-fcbc-4b83-a588-28311f6395eb",
   "metadata": {},
   "outputs": [],
   "source": [
    "set.seed(SEED)\n",
    "eval_reduced <- recommenderlab::evaluationScheme(data = coerce(MovieLense_user_movies_reduced_df, MovieLense), \n",
    "                                                 method=\"split\", train=0.8, given=3)\n",
    "\n",
    "\n",
    "recommender <- Recommender(data = getData(eval_reduced, \"train\"), method = \"SVD\", \n",
    "                            parameter = list(k = 10))\n",
    "\n",
    "top_n = predict(recommender, test_user_selected, n=15)\n",
    "SVD_10_top_n_genre = top_n_genres(top_n, Movie_Genre, 'SVD10')"
   ]
  },
  {
   "cell_type": "code",
   "execution_count": null,
   "id": "c2f84efb-05e2-4dfa-bea1-20f6f816df79",
   "metadata": {},
   "outputs": [],
   "source": [
    "ggplot(SVD_10_top_n_genre, aes(x = user, y = percent, fill = genre)) +\n",
    " geom_col() + labs(title = \"SVD 5: Genre of highly rated Movies per User in the Top N list\")"
   ]
  },
  {
   "cell_type": "markdown",
   "id": "b2111a0d-d465-4461-8333-3f55628cd5e3",
   "metadata": {},
   "source": [
    "3. Bestimme pro Kunde den Anteil nach Genres seiner Top-Filme (=Filme, \n",
    "welche vom Kunden die besten Bewertungen erhalten haben),"
   ]
  },
  {
   "cell_type": "code",
   "execution_count": null,
   "id": "2d888ee8-2712-4c0d-b84e-c042e1b17ae5",
   "metadata": {},
   "outputs": [],
   "source": [
    "fav_genre_of_users <- function(random_user_idx, MovieLenseData, Movie_Genre, top_rating=4){\n",
    "    #' @random_user_idx vector with random ints\n",
    "    #' @param MovieLenseData Movielense data.frame, containing how a user has rated a movie.\n",
    "    #' @param Movie_Genre melted MovieLenseData, containing at least the genre and the title of a movie\n",
    "    #' @top_rating min rating to consider a movie a top movie for a user (inclusive)\n",
    "    #' @param returns a data.frame with the genres of top rated movies by the user. \n",
    "    test_user_selected = as(names(as(test_user_selected, 'list')), 'matrix') # Ugly code is beautiful too.\n",
    "    Movie_Genre$item = Movie_Genre$title\n",
    "    user_top_genres <- MovieLenseData %>%\n",
    "        filter(user %in% test_user_selected) %>%\n",
    "        filter(rating >= top_rating) %>%\n",
    "        left_join(Movie_Genre, by = \"item\")  %>%\n",
    "        group_by(user, genre)  %>%\n",
    "        summarise(n = n()) %>% \n",
    "        mutate(percent =  100 *n/sum(n))\n",
    "    user_top_genres$TopGenres <- user_top_genres$percent\n",
    "        #select(user, genre, n)\n",
    "    return (user_top_genres)\n",
    "}"
   ]
  },
  {
   "cell_type": "code",
   "execution_count": null,
   "id": "d0b205ce-f3ad-44e6-98d7-de878103d6c8",
   "metadata": {},
   "outputs": [],
   "source": [
    "fav_genres = fav_genre_of_users(test_user_selected, MovieLense_df, Movie_Genre)"
   ]
  },
  {
   "cell_type": "code",
   "execution_count": null,
   "id": "3196da95-9b68-4e6a-ac7c-adf3135e7ecc",
   "metadata": {},
   "outputs": [],
   "source": [
    "ggplot(fav_genres, aes(x = user, y = percent, fill = genre)) +\n",
    " geom_col() + labs(title = \"Genre of highly rated Movies per User\")\n",
    " #scale_y_continuous(labels = percentage)"
   ]
  },
  {
   "cell_type": "markdown",
   "id": "2f318c7d-a641-4edf-8435-9dcddbc771e8",
   "metadata": {},
   "source": [
    "4. Vergleiche pro Kunde Top-Empfehlungen und Top-Filmen nach Genres,"
   ]
  },
  {
   "cell_type": "code",
   "execution_count": null,
   "id": "57990d8c-ad7a-4401-9cbf-65264d4eb33c",
   "metadata": {},
   "outputs": [],
   "source": [
    "all_top_n_genres <- fav_genres %>%\n",
    "    full_join(IBCF_top_genre, by=c('user', 'genre')) %>%\n",
    "    full_join(UBCF_cos_top_genre, by=c('user', 'genre')) %>%\n",
    "    full_join(UBCF_jacc_top_n_genre, by=c('user', 'genre')) %>%\n",
    "    full_join(SVD_5_top_n_genre, by=c('user', 'genre')) %>%\n",
    "    full_join(SVD_10_top_n_genre, by=c('user', 'genre')) %>%\n",
    "    select_at(vars(-ends_with(\".y\"))) %>%\n",
    "    select_at(vars(-ends_with(\".x\"))) \n",
    "\n",
    "all_top_n_genres[is.na(all_top_n_genres)] = 0\n",
    "\n",
    "all_top_n_genres_melted = melt(all_top_n_genres, id.vars = c(\"user\", \"genre\"), measure.vars = c(\"TopGenres\", \"IBCFCos\", \"UBCFCos\", \"UBCFJacc\", \"SVD5\", \"SVD10\"))"
   ]
  },
  {
   "cell_type": "code",
   "execution_count": null,
   "id": "c6ea066f-b3c5-4a86-b47a-582c08fa54f4",
   "metadata": {},
   "outputs": [],
   "source": [
    "head(all_top_n_genres_melted)"
   ]
  },
  {
   "cell_type": "code",
   "execution_count": null,
   "id": "1a9f8ad7-0514-4472-80c2-8e1b762f60f2",
   "metadata": {},
   "outputs": [],
   "source": [
    "all_top_n_genres_melted_u22 <- all_top_n_genres_melted %>%\n",
    "    filter(user==22)\n",
    "ggplot(all_top_n_genres_melted_u22, aes(x = variable, y = value, fill = genre)) +\n",
    " geom_col() + labs(title = \"Genre distribution of User 22\")\n",
    " #scale_y_continuous(labels = percentage)"
   ]
  },
  {
   "cell_type": "code",
   "execution_count": null,
   "id": "422c17cc-fe09-4d69-a914-98bb1d00380b",
   "metadata": {},
   "outputs": [],
   "source": [
    "all_top_n_genres_melted_u911 <- all_top_n_genres_melted %>%\n",
    "    filter(user==911)\n",
    "ggplot(all_top_n_genres_melted_u22, aes(x = variable, y = value, fill = genre)) +\n",
    " geom_col() + labs(title = \"Genre distribution of User 911\")\n",
    " #scale_y_continuous(labels = percentage)"
   ]
  },
  {
   "cell_type": "code",
   "execution_count": null,
   "id": "3e0c4b0a-12d5-4223-9866-b1792cbb4a74",
   "metadata": {},
   "outputs": [],
   "source": [
    "cols = colnames(all_top_n_genres)[c(4:8)]\n",
    "df <- data.frame(matrix(ncol = length(cols), nrow = 1))\n",
    "colnames(df) <- cols"
   ]
  },
  {
   "cell_type": "code",
   "execution_count": null,
   "id": "9a393383-fa2e-4410-b2bc-4a077cce8110",
   "metadata": {},
   "outputs": [],
   "source": [
    "calc_genre_err <- function(all_top_n_genres, cols){\n",
    "    #' @all_top_n_genres dataframe containing the top genres from top rated movies of users and predictions done by different models.\n",
    "    #' @cols Column names with the genre distributions of predictions.\n",
    "    #' @param returns a data.frame with the absolute error of genre difference between the user rated movies and the predicted movies.\n",
    "    df <- data.frame(matrix(ncol = length(cols), nrow = 1))\n",
    "    colnames(df) <- cols\n",
    "    top_genres <- all_top_n_genres$TopGenres\n",
    "    for (col in cols){\n",
    "        df_tmp = sum(abs(top_genres - all_top_n_genres[,col]) / length(top_genres))\n",
    "        df[1, col] <- df_tmp\n",
    "    }\n",
    "    return (df)\n",
    "}"
   ]
  },
  {
   "cell_type": "code",
   "execution_count": null,
   "id": "3529574f-5211-401d-a33d-c573136a3097",
   "metadata": {},
   "outputs": [],
   "source": [
    "genre_error = calc_genre_err(all_top_n_genres, colnames(all_top_n_genres)[c(4:8)])"
   ]
  },
  {
   "cell_type": "code",
   "execution_count": null,
   "id": "6089644f-659d-4a3b-ad81-ebfc328b066d",
   "metadata": {},
   "outputs": [],
   "source": [
    "melt(genre_error)"
   ]
  },
  {
   "cell_type": "code",
   "execution_count": null,
   "id": "bd63e098-1eaa-4fce-8d3d-a416fc176277",
   "metadata": {},
   "outputs": [],
   "source": [
    "klb(2)"
   ]
  },
  {
   "cell_type": "code",
   "execution_count": null,
   "id": "4e71a2db-9cb0-48fa-a121-06669809a914",
   "metadata": {},
   "outputs": [],
   "source": [
    "kulbak kleibler ??"
   ]
  },
  {
   "cell_type": "code",
   "execution_count": null,
   "id": "12105c63-5806-460e-bc2c-38924933d6db",
   "metadata": {},
   "outputs": [],
   "source": [
    "ggplot(melt(genre_error), aes(x = variable, y = value, fill = variable)) +\n",
    " geom_col() + labs(title = \"Genre distribution of User 911\")\n",
    " #scale_y_continuous(labels = percentage)"
   ]
  },
  {
   "cell_type": "markdown",
   "id": "9386c9b7-c228-4a67-8067-a381c545243c",
   "metadata": {},
   "source": [
    "5.Definiere eine Qualitätsmetrik für Top-N Listen und teste sie."
   ]
  },
  {
   "cell_type": "code",
   "execution_count": null,
   "id": "828ef246-0a4e-4837-8406-0f4addba0f62",
   "metadata": {},
   "outputs": [],
   "source": [
    "ggplot(melt(genre_error), aes(x = variable, y = value, fill = variable)) +\n",
    " geom_col() + labs(title = \"Genre distribution of User 911\")\n",
    " #scale_y_continuous(labels = percentage)"
   ]
  },
  {
   "cell_type": "code",
   "execution_count": null,
   "id": "6aae08cb-23ce-4573-a46d-5f632eef47a9",
   "metadata": {},
   "outputs": [],
   "source": []
  }
 ],
 "metadata": {
  "kernelspec": {
   "display_name": "R",
   "language": "R",
   "name": "ir"
  },
  "language_info": {
   "codemirror_mode": "r",
   "file_extension": ".r",
   "mimetype": "text/x-r-source",
   "name": "R",
   "pygments_lexer": "r",
   "version": "3.6.1"
  }
 },
 "nbformat": 4,
 "nbformat_minor": 5
}
