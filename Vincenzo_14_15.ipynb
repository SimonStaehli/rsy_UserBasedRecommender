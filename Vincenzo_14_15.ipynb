{
 "cells": [
  {
   "cell_type": "code",
   "execution_count": null,
   "id": "46b239b6-b84a-4c33-b4b9-022018e2290b",
   "metadata": {},
   "outputs": [
    {
     "name": "stderr",
     "output_type": "stream",
     "text": [
      "Installing packages into 'C:/Users/vince/Documents/R/win-library/3.6'\n",
      "(as 'lib' is unspecified)\n"
     ]
    }
   ],
   "source": [
    "# install.packages(c(\"recommenderlab\", \"dplyr\", \"ggplot2\", \"ggridges\", \"tidyr\", \"coop\", \"gridExtra\", \"reshape2\"))"
   ]
  },
  {
   "cell_type": "code",
   "execution_count": 125,
   "id": "0447a5e8-4dce-4318-ac90-b51d57925cf7",
   "metadata": {},
   "outputs": [
    {
     "name": "stderr",
     "output_type": "stream",
     "text": [
      "Warning message:\n",
      "\"package 'reshape2' was built under R version 3.6.3\"\n",
      "Attaching package: 'reshape2'\n",
      "\n",
      "The following object is masked from 'package:tidyr':\n",
      "\n",
      "    smiths\n",
      "\n"
     ]
    }
   ],
   "source": [
    "library(recommenderlab)\n",
    "library(dplyr)\n",
    "library(ggplot2)\n",
    "library(ggridges)\n",
    "library(tidyr)\n",
    "library(coop)\n",
    "library(gridExtra)\n",
    "library(reshape2)"
   ]
  },
  {
   "cell_type": "markdown",
   "id": "e1bd5edc-5ae5-42f2-a463-9c902190be3c",
   "metadata": {},
   "source": [
    "Aufgabe: Reduziere den MovieLense Datensatz auf rund 400 Kunden \n",
    "und 700 Filme, indem du Filme und Kunden  mit sehr wenigen Ratings \n",
    "entfernst.\n",
    "Untersuche und dokumentiere die Eigenschaften des reduzierten \n",
    "Datensatzes und beschreibe den Effekt der Datenreduktion:\n",
    "  1.Anzahl Filme und Kunden sowie Sparsity vor und nach Datenreduktion"
   ]
  },
  {
   "cell_type": "code",
   "execution_count": 2,
   "id": "f3f0d1d2-fdac-442d-b1d7-b3b21b12d86b",
   "metadata": {},
   "outputs": [],
   "source": [
    "data(MovieLense)\n",
    "MovieLense_df <- as(MovieLense, \"data.frame\")\n",
    "MovieLenseMeta_df <- as(MovieLenseMeta, \"data.frame\")\n",
    "MOVIE_MIN_RATED = 700\n",
    "USER_MIN_RATED = 400\n",
    "SEED = 42\n",
    "set.seed(SEED)\n",
    "\n",
    "movies_min_rated <- MovieLense_df %>%\n",
    "  count(item) %>%\n",
    "  arrange(desc(n)) %>%\n",
    "  head(MOVIE_MIN_RATED) %>%\n",
    "  select(item)\n",
    "\n",
    "MovieLense_user_movies_reduced_df <- MovieLense_df %>%\n",
    "  inner_join(movies_min_rated, by='item')\n",
    "\n",
    "user_min_movies_rated <- MovieLense_user_movies_reduced_df %>%\n",
    "  count(user) %>%\n",
    "  arrange(desc(n)) %>%\n",
    "  head(USER_MIN_RATED) %>%\n",
    "  select(user)\n",
    "\n",
    "MovieLense_user_movies_reduced_df <- MovieLense_user_movies_reduced_df %>%\n",
    "  inner_join(user_min_movies_rated, by='user') \n",
    "\n",
    "Movie_Genre <- MovieLenseMeta %>%\n",
    "  pivot_longer(cols=c(unknown:Western)) %>%\n",
    "  filter(value==1) %>% \n",
    "  rename(genre = name)"
   ]
  },
  {
   "cell_type": "code",
   "execution_count": 3,
   "id": "3a2ab487-fa94-466a-81b5-35bd2f0b7135",
   "metadata": {},
   "outputs": [
    {
     "name": "stderr",
     "output_type": "stream",
     "text": [
      "Warning message in coerce(MovieLense_user_movies_reduced_df, MovieLense):\n",
      "\"direct use of coerce() is deprecated:  use as(from, class(to)) instead\""
     ]
    },
    {
     "name": "stdout",
     "output_type": "stream",
     "text": [
      "IBCF run fold/sample [model time/prediction time]\n",
      "\t 1  [1.82sec/0.06sec] \n"
     ]
    },
    {
     "data": {
      "image/png": "[encoded data removed]",
      "text/plain": [
       "plot without title"
      ]
     },
     "metadata": {},
     "output_type": "display_data"
    },
    {
     "data": {
      "image/png": "[encoded data removed]",
      "text/plain": [
       "plot without title"
      ]
     },
     "metadata": {},
     "output_type": "display_data"
    }
   ],
   "source": [
    "set.seed(SEED)\n",
    "# Let's check some algorithms against each other\n",
    "scheme <- recommenderlab::evaluationScheme(coerce(MovieLense_user_movies_reduced_df,MovieLense) , method = \"split\", train = 0.8,\n",
    "                          given = 3, goodRating = 4)\n",
    "\n",
    "\n",
    "algorithms <- list(\n",
    "  \"item-based CF\" = list(name=\"IBCF\", param=list(normalize = \"Z-score\"))\n",
    "  )\n",
    "\n",
    "# run algorithms, predict next n movies\n",
    "n = c(5, 10, 15, 20, 25, 30)\n",
    "results <- evaluate(scheme, algorithms, n=n)\n",
    "\n",
    "# Draw ROC curve\n",
    "plot(results, annotate = 1:4, legend=\"topleft\")\n",
    "\n",
    "# See precision / recall\n",
    "plot(results, \"prec/rec\", annotate=3)"
   ]
  },
  {
   "cell_type": "code",
   "execution_count": 11,
   "id": "f1dd31c4-7b9b-4ccb-9641-43f868cf9bc9",
   "metadata": {},
   "outputs": [
    {
     "name": "stderr",
     "output_type": "stream",
     "text": [
      "Warning message in coerce(MovieLense_user_movies_reduced_df, MovieLense):\n",
      "\"direct use of coerce() is deprecated:  use as(from, class(to)) instead\""
     ]
    }
   ],
   "source": [
    "set.seed(SEED)\n",
    "eval_reduced <- recommenderlab::evaluationScheme(data = coerce(MovieLense_user_movies_reduced_df, MovieLense), \n",
    "                                                 method=\"split\", train=0.8, given=3)\n",
    "\n",
    "\n",
    "IBCF_reduced <- Recommender(data = getData(eval_reduced, \"train\"), method = \"IBCF\", \n",
    "                            parameter = list(k = 30, method = \"Cosine\", na_as_zero=TRUE))\n"
   ]
  },
  {
   "cell_type": "code",
   "execution_count": 12,
   "id": "d44844b4-b703-4d6a-8e91-ee4ee4691a5d",
   "metadata": {},
   "outputs": [],
   "source": [
    "top_n_to_df <- function(top_n){\n",
    "  #' @description Function to transform a TopNList object to a data.frame object.\n",
    "  #' @param topn Topn List\n",
    "  topn_df <- data.frame(user = names(as(top_n, 'list')), \n",
    "    rating = unlist(top_n@ratings), index = unlist(top_n@items))\n",
    "\n",
    "  topn_df$item <- top_n@itemLabels[topn_df$index]\n",
    "  topn_df$year <- MovieLenseMeta$year[topn_df$index]\n",
    "  topn_df <- topn_df[order(topn_df$user),]\n",
    "  topn_df\n",
    "}\n",
    "\n",
    "calc_coverage <- function(top_n, n_movies=1664){\n",
    "  #' @description Function, which returns coverage \n",
    "  #' @param top_n Top_n list generated by `recommenderlab::predict`\n",
    "  #' @param n_movies How many total movies there are. In the MovielenseDB, there are 1664 Movies.\n",
    "  top_n = as(top_n, 'list')\n",
    "  unique_pred_movies = unique(unlist(top_n, recursive = FALSE))\n",
    "  n_unique_pred_movies = length(unique_pred_movies)\n",
    "    \n",
    "  return (n_unique_pred_movies / n_movies)\n",
    "}\n",
    "\n",
    "calc_popularity <- function(MovieLenseData, n_movies=1664){\n",
    "  #' @description Function, which returns coverage as described here: https://ds-spaces.technik.fhnw.ch/6rsy/2021/05/02/recommender-system-evaluierung-coverage-und-novelty/\n",
    "  #' @param MovieLenseData Movielense data.frame, containing how a user has rated a movie.\n",
    "  #' @param n_movies How many total movies there are. In the MovielenseDB, there are 1664 Movies.\n",
    "  \n",
    "  popularity_movie <- MovieLenseData %>%\n",
    "    count(item) %>%\n",
    "    mutate(popularity = log2(n / n_movies)) %>%\n",
    "    select(item, popularity)\n",
    "  return (popularity_movie)\n",
    "  \n",
    "}\n",
    "calc_novelty <- function(top_n, MovieLenseData, n_movies=1664){\n",
    "  #' @description Function, which returns novelty as described here: https://ds-spaces.technik.fhnw.ch/6rsy/2021/05/02/recommender-system-evaluierung-coverage-und-novelty/\n",
    "  #' @param top_n Top_n list generated by `recommenderlab::predict`\n",
    "  #' @param MovieLenseData MovieLense Dataset as data.frame\n",
    "  #' @param n_movies How many total movies there are. In the MovielenseDB, there are 1664 Movies.\n",
    "  popularity = calc_popularity(MovieLenseData, n_movies) \n",
    "  \n",
    "  top_n_df <- top_n_to_df(top_n)\n",
    "    \n",
    "  group_size_user = top_n_df %>%\n",
    "    group_by(user) %>%\n",
    "    summarise(n = n()) %>%\n",
    "    select(user, n)\n",
    "  \n",
    "  top_n_df <- top_n_df %>%\n",
    "    left_join(group_size_user, by = 'user')\n",
    "  \n",
    "  top_n_popularity_df <- top_n_df %>%\n",
    "    inner_join(popularity, by = 'item') %>%\n",
    "    mutate(popularity = popularity / n)\n",
    "  \n",
    "  novelty = sum(top_n_popularity_df$popularity)\n",
    "  \n",
    "  S = length(unique(MovieLenseData$user))\n",
    "  \n",
    "  novelty = - 1 / S * novelty\n",
    "  \n",
    "  return (novelty)\n",
    "}"
   ]
  },
  {
   "cell_type": "code",
   "execution_count": 13,
   "id": "4697fc75-cd8d-4164-a1de-22bd82f57428",
   "metadata": {},
   "outputs": [],
   "source": [
    "top_n = predict(object = IBCF_reduced, newdata = getData(eval_reduced, \"unknown\"), n = 15)"
   ]
  },
  {
   "cell_type": "code",
   "execution_count": 14,
   "id": "a46620c6-843d-4582-8d6a-6148ab159e3e",
   "metadata": {},
   "outputs": [
    {
     "data": {
      "text/html": [
       "0.308293269230769"
      ],
      "text/latex": [
       "0.308293269230769"
      ],
      "text/markdown": [
       "0.308293269230769"
      ],
      "text/plain": [
       "[1] 0.3082933"
      ]
     },
     "metadata": {},
     "output_type": "display_data"
    },
    {
     "data": {
      "text/html": [
       "0.356611864879244"
      ],
      "text/latex": [
       "0.356611864879244"
      ],
      "text/markdown": [
       "0.356611864879244"
      ],
      "text/plain": [
       "[1] 0.3566119"
      ]
     },
     "metadata": {},
     "output_type": "display_data"
    }
   ],
   "source": [
    "calc_coverage(top_n)\n",
    "calc_novelty(top_n, MovieLense_df)"
   ]
  },
  {
   "cell_type": "code",
   "execution_count": 15,
   "id": "5c029363-ee70-4420-9044-7a5e7fae9a44",
   "metadata": {},
   "outputs": [
    {
     "name": "stdout",
     "output_type": "stream",
     "text": [
      "[1] \"N:  5\"\n",
      "[1] \"Coverage:  0.150841346153846\"\n",
      "[1] \"Novelty:  0.36566404904635\"\n",
      "[1] \"N:  10\"\n",
      "[1] \"Coverage:  0.246394230769231\"\n",
      "[1] \"Novelty:  0.360403937068437\"\n",
      "[1] \"N:  15\"\n",
      "[1] \"Coverage:  0.308293269230769\"\n",
      "[1] \"Novelty:  0.356611864879244\"\n",
      "[1] \"N:  20\"\n",
      "[1] \"Coverage:  0.341947115384615\"\n",
      "[1] \"Novelty:  0.356017022268193\"\n",
      "[1] \"N:  25\"\n",
      "[1] \"Coverage:  0.365384615384615\"\n",
      "[1] \"Novelty:  0.354361922543304\"\n"
     ]
    }
   ],
   "source": [
    "# Test coverage and novelty on 5, 10, 15, 20, 25 and 30 top_n predictions.\n",
    "n_list = c(5, 10, 15, 20, 25)\n",
    "\n",
    "for(n in n_list){\n",
    "    IBCF_reduced <- Recommender(data = getData(eval_reduced, \"train\"), method = \"IBCF\", \n",
    "                            parameter = list(method = \"Cosine\", na_as_zero=TRUE))\n",
    "    \n",
    "    top_n = predict(object = IBCF_reduced, newdata = getData(eval_reduced, \"unknown\"), n = n)\n",
    "    print(paste(\"N: \", n))\n",
    "    print(paste(\"Coverage: \", calc_coverage(top_n)))\n",
    "    print(paste(\"Novelty: \", calc_novelty(top_n, MovieLense_df)))\n",
    "}\n"
   ]
  },
  {
   "cell_type": "code",
   "execution_count": 16,
   "id": "63f55d39-0d2e-4867-94b4-2e1b213c4934",
   "metadata": {},
   "outputs": [],
   "source": [
    "avg_to_df <- function(evlist, n){\n",
    "  #' @description gets the confusion matices from `evlist` and transforms it to a single data.frame\n",
    "  #' @param evlist evaluationResultList\n",
    "  #' @return data.frame confusion matrix with all recommenders as rec and number of recommendations as n\n",
    "  evaluation_avg <- data.frame()\n",
    "  for (i in 1:length(evlist)){\n",
    "    current_avg <- as.data.frame(avg(evlist[i]))\n",
    "    colnames(current_avg) <- c('TP','FP','FN','TN','N', 'precision','recall','TPR','FPR', 'n')\n",
    "    current_avg$specificity <- current_avg$TN * (current_avg$TN + current_avg$FP)**-1\n",
    "    current_avg$n <- n\n",
    "    rownames(current_avg) <- NULL\n",
    "    current_avg$rec <- names(evlist)[i]\n",
    "    evaluation_avg <- rbind(evaluation_avg, current_avg)\n",
    "  }\n",
    "  return(evaluation_avg)\n",
    "}\n",
    "plot_percision_recall <- function(evaluation_avg){\n",
    "  #' @description plots the percision recall curve with the according number of predictions\n",
    "  #' @param evaluation_avg data.frame from avg_to_df\n",
    "  ggplot(evaluation_avg, aes(x=precision, y=recall, label=n)) +\n",
    "    geom_line(aes(color=rec)) +\n",
    "    geom_text() +\n",
    "    scale_color_manual(values=1:length(evaluation_avg)) +\n",
    "    ggtitle('Precision Recall Curve') +\n",
    "    xlab('precision') +\n",
    "    ylab('recall')\n",
    "}\n"
   ]
  },
  {
   "cell_type": "code",
   "execution_count": 17,
   "id": "9a45a4eb-4c97-4783-bae6-b228815ab06c",
   "metadata": {},
   "outputs": [
    {
     "data": {
      "text/html": [
       "<table>\n",
       "<thead><tr><th scope=col>TP</th><th scope=col>FP</th><th scope=col>FN</th><th scope=col>TN</th><th scope=col>N</th><th scope=col>precision</th><th scope=col>recall</th><th scope=col>TPR</th><th scope=col>FPR</th><th scope=col>n</th><th scope=col>specificity</th><th scope=col>rec</th></tr></thead>\n",
       "<tbody>\n",
       "\t<tr><td>0.4000       </td><td> 3.3500      </td><td>96.1875      </td><td>597.0625     </td><td>697          </td><td>0.09846154   </td><td>0.005305618  </td><td>0.005305618  </td><td>0.005618535  </td><td>25           </td><td>0.9944205    </td><td>item-based CF</td></tr>\n",
       "\t<tr><td>0.8500       </td><td> 6.1125      </td><td>95.7375      </td><td>594.3000     </td><td>697          </td><td>0.11045177   </td><td>0.009939166  </td><td>0.009939166  </td><td>0.010197076  </td><td>25           </td><td>0.9898195    </td><td>item-based CF</td></tr>\n",
       "\t<tr><td>1.1375       </td><td> 8.4125      </td><td>95.4500      </td><td>592.0000     </td><td>697          </td><td>0.10719554   </td><td>0.013302795  </td><td>0.013302795  </td><td>0.013989640  </td><td>25           </td><td>0.9859888    </td><td>item-based CF</td></tr>\n",
       "\t<tr><td>1.4375       </td><td>10.4250      </td><td>95.1500      </td><td>589.9875     </td><td>697          </td><td>0.10956059   </td><td>0.016604964  </td><td>0.016604964  </td><td>0.017285140  </td><td>25           </td><td>0.9826369    </td><td>item-based CF</td></tr>\n",
       "\t<tr><td>1.6750       </td><td>12.4375      </td><td>94.9125      </td><td>587.9750     </td><td>697          </td><td>0.10848366   </td><td>0.019053207  </td><td>0.019053207  </td><td>0.020581792  </td><td>25           </td><td>0.9792851    </td><td>item-based CF</td></tr>\n",
       "\t<tr><td>1.9250       </td><td>14.3750      </td><td>94.6625      </td><td>586.0375     </td><td>697          </td><td>0.10870838   </td><td>0.022222742  </td><td>0.022222742  </td><td>0.023750453  </td><td>25           </td><td>0.9760581    </td><td>item-based CF</td></tr>\n",
       "</tbody>\n",
       "</table>\n"
      ],
      "text/latex": [
       "\\begin{tabular}{r|llllllllllll}\n",
       " TP & FP & FN & TN & N & precision & recall & TPR & FPR & n & specificity & rec\\\\\n",
       "\\hline\n",
       "\t 0.4000        &  3.3500       & 96.1875       & 597.0625      & 697           & 0.09846154    & 0.005305618   & 0.005305618   & 0.005618535   & 25            & 0.9944205     & item-based CF\\\\\n",
       "\t 0.8500        &  6.1125       & 95.7375       & 594.3000      & 697           & 0.11045177    & 0.009939166   & 0.009939166   & 0.010197076   & 25            & 0.9898195     & item-based CF\\\\\n",
       "\t 1.1375        &  8.4125       & 95.4500       & 592.0000      & 697           & 0.10719554    & 0.013302795   & 0.013302795   & 0.013989640   & 25            & 0.9859888     & item-based CF\\\\\n",
       "\t 1.4375        & 10.4250       & 95.1500       & 589.9875      & 697           & 0.10956059    & 0.016604964   & 0.016604964   & 0.017285140   & 25            & 0.9826369     & item-based CF\\\\\n",
       "\t 1.6750        & 12.4375       & 94.9125       & 587.9750      & 697           & 0.10848366    & 0.019053207   & 0.019053207   & 0.020581792   & 25            & 0.9792851     & item-based CF\\\\\n",
       "\t 1.9250        & 14.3750       & 94.6625       & 586.0375      & 697           & 0.10870838    & 0.022222742   & 0.022222742   & 0.023750453   & 25            & 0.9760581     & item-based CF\\\\\n",
       "\\end{tabular}\n"
      ],
      "text/markdown": [
       "\n",
       "| TP | FP | FN | TN | N | precision | recall | TPR | FPR | n | specificity | rec |\n",
       "|---|---|---|---|---|---|---|---|---|---|---|---|\n",
       "| 0.4000        |  3.3500       | 96.1875       | 597.0625      | 697           | 0.09846154    | 0.005305618   | 0.005305618   | 0.005618535   | 25            | 0.9944205     | item-based CF |\n",
       "| 0.8500        |  6.1125       | 95.7375       | 594.3000      | 697           | 0.11045177    | 0.009939166   | 0.009939166   | 0.010197076   | 25            | 0.9898195     | item-based CF |\n",
       "| 1.1375        |  8.4125       | 95.4500       | 592.0000      | 697           | 0.10719554    | 0.013302795   | 0.013302795   | 0.013989640   | 25            | 0.9859888     | item-based CF |\n",
       "| 1.4375        | 10.4250       | 95.1500       | 589.9875      | 697           | 0.10956059    | 0.016604964   | 0.016604964   | 0.017285140   | 25            | 0.9826369     | item-based CF |\n",
       "| 1.6750        | 12.4375       | 94.9125       | 587.9750      | 697           | 0.10848366    | 0.019053207   | 0.019053207   | 0.020581792   | 25            | 0.9792851     | item-based CF |\n",
       "| 1.9250        | 14.3750       | 94.6625       | 586.0375      | 697           | 0.10870838    | 0.022222742   | 0.022222742   | 0.023750453   | 25            | 0.9760581     | item-based CF |\n",
       "\n"
      ],
      "text/plain": [
       "  TP     FP      FN      TN       N   precision  recall      TPR        \n",
       "1 0.4000  3.3500 96.1875 597.0625 697 0.09846154 0.005305618 0.005305618\n",
       "2 0.8500  6.1125 95.7375 594.3000 697 0.11045177 0.009939166 0.009939166\n",
       "3 1.1375  8.4125 95.4500 592.0000 697 0.10719554 0.013302795 0.013302795\n",
       "4 1.4375 10.4250 95.1500 589.9875 697 0.10956059 0.016604964 0.016604964\n",
       "5 1.6750 12.4375 94.9125 587.9750 697 0.10848366 0.019053207 0.019053207\n",
       "6 1.9250 14.3750 94.6625 586.0375 697 0.10870838 0.022222742 0.022222742\n",
       "  FPR         n  specificity rec          \n",
       "1 0.005618535 25 0.9944205   item-based CF\n",
       "2 0.010197076 25 0.9898195   item-based CF\n",
       "3 0.013989640 25 0.9859888   item-based CF\n",
       "4 0.017285140 25 0.9826369   item-based CF\n",
       "5 0.020581792 25 0.9792851   item-based CF\n",
       "6 0.023750453 25 0.9760581   item-based CF"
      ]
     },
     "metadata": {},
     "output_type": "display_data"
    }
   ],
   "source": [
    "avg_to_df(results, n)"
   ]
  },
  {
   "cell_type": "markdown",
   "id": "eec62764-6462-4a3a-8750-b47fa40fe625",
   "metadata": {},
   "source": [
    "## Implementierung Top-N Monitor\n",
    "Aufgabe DIY: Untersuche die relative Übereinstimmung zwischen Top-\n",
    "N Empfehlungen und präferierten Filmen für 4 unterschiedliche \n",
    "Modelle (z.B. IBCF und UBCF mit unterschiedlichen  Ähnlichkeits-\n",
    "metriken / Nachbarschaften sowie SVD mit unterschiedlicher \n",
    "Dimensionalitätsreduktion).\n",
    "\n",
    "### 1.Fixiere 20 zufällig gewählte Testkunden für alle Modellvergleiche"
   ]
  },
  {
   "cell_type": "code",
   "execution_count": 23,
   "id": "4b8671b4-3220-4423-b0ee-558d599aacd7",
   "metadata": {},
   "outputs": [],
   "source": [
    "set.seed(SEED)\n",
    "random_user_idx = floor(runif(20, min=0, max=nrow(getData(eval_reduced, \"unknown\"))+1))\n",
    "test_user_selected = getData(eval_reduced, \"unknown\")[random_user_idx]"
   ]
  },
  {
   "cell_type": "markdown",
   "id": "ebc9706a-4d35-49a3-8ba8-2b565b0d663c",
   "metadata": {},
   "source": [
    "### 2.Bestimme den Anteil der Top-N Empfehlung nach Genres pro Kunde\n",
    "Zuerst schauen wir, basierend auf Precision, Recall, Novelty und Coverage, welche Modelle überhaupt interessant sind."
   ]
  },
  {
   "cell_type": "code",
   "execution_count": 34,
   "id": "a2db16e9-8c61-4443-bdac-ea76123544c3",
   "metadata": {},
   "outputs": [],
   "source": [
    "# Random Users:\n",
    "set.seed(42)\n",
    "test = getData(eval_reduced, \"unknown\")\n",
    "n = c(5, 10, 15, 20, 25, 30) # How many movies should be predicted (top n).\n",
    "\n",
    "algorithms <- list(\n",
    "    \"IBCF, z-score, cos\" = list(name=\"IBCF\", param=list(normalize = \"Z-score\",\n",
    "                                                   method = 'cosine')),\n",
    "    \"IBCF, z-score, jac\" = list(name=\"IBCF\", param=list(normalize = \"Z-score\",\n",
    "                                                   method = 'jaccard')),\n",
    "    \"IBCF, center, cos\" = list(name=\"IBCF\", param=list(normalize = \"center\",\n",
    "                                                 method = 'cosine')),\n",
    "    \"IBCF, center, jac\" = list(name=\"IBCF\", param=list(normalize = \"center\",\n",
    "                                                 method = 'jaccard')),\n",
    "    \"UBCF, z-score, cos\" = list(name=\"UBCF\", param=list(normalize = \"Z-score\",\n",
    "                                                   method = 'cosine')),\n",
    "    \"UBCF, z-score, jac\" = list(name=\"UBCF\", param=list(normalize = \"Z-score\",\n",
    "                                                   method = 'jaccard')),\n",
    "    \"UBCF, center, cos\" = list(name=\"UBCF\", param=list(normalize = \"center\",\n",
    "                                                 method = 'cosine')),\n",
    "    \"UBCF, center, jac\" = list(name=\"UBCF\", param=list(normalize = \"center\",\n",
    "                                                       method = 'jaccard')), \n",
    "    \"SVD, 2\" = list(name='SVD', param=list(k=2)),\n",
    "    \"SVD, 5\" = list(name='SVD', param=list(k=5)),\n",
    "    \"SVD, 10\" = list(name='SVD', param=list(k=10)),\n",
    "    \"SVD, 20\" = list(name='SVD', param=list(k=20))\n",
    ")\n"
   ]
  },
  {
   "cell_type": "code",
   "execution_count": 35,
   "id": "03642811-0d07-4a0e-a047-2b359ef07d1d",
   "metadata": {},
   "outputs": [
    {
     "name": "stderr",
     "output_type": "stream",
     "text": [
      "Warning message in coerce(MovieLense_user_movies_reduced_df, MovieLense):\n",
      "\"direct use of coerce() is deprecated:  use as(from, class(to)) instead\""
     ]
    },
    {
     "name": "stdout",
     "output_type": "stream",
     "text": [
      "IBCF run fold/sample [model time/prediction time]\n",
      "\t 1  [1.5sec/0.02sec] \n",
      "IBCF run fold/sample [model time/prediction time]\n",
      "\t 1  [1.4sec/0.02sec] \n",
      "IBCF run fold/sample [model time/prediction time]\n",
      "\t 1  [1.46sec/0sec] \n",
      "IBCF run fold/sample [model time/prediction time]\n",
      "\t 1  [1.36sec/0.02sec] \n",
      "UBCF run fold/sample [model time/prediction time]\n",
      "\t 1  [0.01sec/0.14sec] \n",
      "UBCF run fold/sample [model time/prediction time]\n",
      "\t 1  [0.02sec/0.15sec] \n",
      "UBCF run fold/sample [model time/prediction time]\n",
      "\t 1  [0sec/0.27sec] \n",
      "UBCF run fold/sample [model time/prediction time]\n",
      "\t 1  [0sec/0.14sec] \n",
      "SVD run fold/sample [model time/prediction time]\n",
      "\t 1  [0.02sec/0.05sec] \n",
      "SVD run fold/sample [model time/prediction time]\n",
      "\t 1  [0.01sec/0.05sec] \n",
      "SVD run fold/sample [model time/prediction time]\n",
      "\t 1  [0.02sec/0.03sec] \n",
      "SVD run fold/sample [model time/prediction time]\n",
      "\t 1  [0.05sec/0.05sec] \n"
     ]
    },
    {
     "data": {
      "image/png": "[encoded data removed]",
      "text/plain": [
       "plot without title"
      ]
     },
     "metadata": {},
     "output_type": "display_data"
    },
    {
     "data": {
      "image/png": "[encoded data removed]",
      "text/plain": [
       "plot without title"
      ]
     },
     "metadata": {},
     "output_type": "display_data"
    }
   ],
   "source": [
    "set.seed(SEED)\n",
    "# Let's check some algorithms against each other\n",
    "scheme <- recommenderlab::evaluationScheme(coerce(MovieLense_user_movies_reduced_df,MovieLense) , method = \"split\", train = 0.8,\n",
    "                          given = 3, goodRating = 4)\n",
    "\n",
    "\n",
    "# run algorithms, predict next n movies\n",
    "n = c(3, 5, 10, 15, 20, 25, 30)\n",
    "results <- evaluate(scheme, algorithms, n=n)\n",
    "\n",
    "# Draw ROC curve\n",
    "plot(results, annotate = 1:4, legend=\"topleft\")\n",
    "\n",
    "# See precision / recall\n",
    "plot(results, \"prec/rec\", annotate=3)"
   ]
  },
  {
   "cell_type": "code",
   "execution_count": 76,
   "id": "ea3a363e-27dd-4d0e-be80-90b3904a01bc",
   "metadata": {},
   "outputs": [],
   "source": [
    "top_n_genres <- function(top_n, Movie_Genre, col_name){\n",
    "    #' @algorithms top_n generated by recommenderlab::predict\n",
    "    #' @Movie_Genre Movie_Genre melted MovieLenseData, containing at least the genre and the title of a movie\n",
    "    #' @col_name name for copy of percentages of genres (for easier comparison between different models).\n",
    "    #' @returns genres of users in the top_n list\n",
    "    top_n = top_n_to_df(top_n)\n",
    "    Movie_Genre$item = Movie_Genre$title\n",
    "    genres_top_n <- top_n %>%\n",
    "        left_join(Movie_Genre, by='item') %>%\n",
    "        group_by(user, genre)  %>%\n",
    "        summarise(n = n()) %>% \n",
    "        mutate(percent =  100 *n/sum(n))\n",
    "    genres_top_n[,col_name] = genres_top_n$percent\n",
    "    return (genres_top_n)\n",
    "}"
   ]
  },
  {
   "cell_type": "code",
   "execution_count": 130,
   "id": "4f5d411a-18fc-4e24-9e29-3f4d89af356d",
   "metadata": {},
   "outputs": [
    {
     "name": "stderr",
     "output_type": "stream",
     "text": [
      "Warning message in coerce(MovieLense_user_movies_reduced_df, MovieLense):\n",
      "\"direct use of coerce() is deprecated:  use as(from, class(to)) instead\""
     ]
    }
   ],
   "source": [
    "set.seed(SEED)\n",
    "eval_reduced <- recommenderlab::evaluationScheme(data = coerce(MovieLense_user_movies_reduced_df, MovieLense), \n",
    "                                                 method=\"split\", train=0.8, given=3)\n",
    "\n",
    "\n",
    "recommender <- Recommender(data = getData(eval_reduced, \"train\"), method = \"IBCF\", \n",
    "                            parameter = list( method = \"Cosine\", na_as_zero=TRUE))\n",
    "\n",
    "top_n = predict(recommender, test_user_selected, n=15)"
   ]
  },
  {
   "cell_type": "code",
   "execution_count": 131,
   "id": "810d77f3-1b0c-468f-a677-6f85c97ffb6c",
   "metadata": {},
   "outputs": [
    {
     "name": "stderr",
     "output_type": "stream",
     "text": [
      "`summarise()` has grouped output by 'user'. You can override using the `.groups` argument.\n"
     ]
    }
   ],
   "source": [
    "IBCF_top_genre = top_n_genres(top_n, Movie_Genre, 'IBCFCos')"
   ]
  },
  {
   "cell_type": "code",
   "execution_count": 132,
   "id": "6a47c388-b81b-4d2a-b63c-3549b0ab3cbb",
   "metadata": {},
   "outputs": [
    {
     "data": {
      "image/png": "[encoded data removed]",
      "text/plain": [
       "plot without title"
      ]
     },
     "metadata": {},
     "output_type": "display_data"
    }
   ],
   "source": [
    "ggplot(IBCF_top_genre, aes(x = user, y = percent, fill = genre)) +\n",
    " geom_col() + labs(title = \"IBCF Cosine: Genre of highly rated Movies per User in the Top N list\")"
   ]
  },
  {
   "cell_type": "code",
   "execution_count": 133,
   "id": "bfa0e67c-4b24-46c2-8315-482f6e1430bc",
   "metadata": {},
   "outputs": [
    {
     "name": "stderr",
     "output_type": "stream",
     "text": [
      "Warning message in coerce(MovieLense_user_movies_reduced_df, MovieLense):\n",
      "\"direct use of coerce() is deprecated:  use as(from, class(to)) instead\"`summarise()` has grouped output by 'user'. You can override using the `.groups` argument.\n"
     ]
    }
   ],
   "source": [
    "set.seed(SEED)\n",
    "eval_reduced <- recommenderlab::evaluationScheme(data = coerce(MovieLense_user_movies_reduced_df, MovieLense), \n",
    "                                                 method=\"split\", train=0.8, given=3)\n",
    "\n",
    "recommender <- Recommender(data = getData(eval_reduced, \"train\"), method = \"UBCF\", \n",
    "                            parameter = list(nn = 25, method = \"Cosine\"))\n",
    "\n",
    "top_n = predict(recommender, test_user_selected, n=15)\n",
    "UBCF_cos_top_genre = top_n_genres(top_n, Movie_Genre, 'UBCFCos')"
   ]
  },
  {
   "cell_type": "code",
   "execution_count": 134,
   "id": "766fdf6c-77c8-4e62-b2ed-d279bb0ce28a",
   "metadata": {},
   "outputs": [
    {
     "data": {
      "image/png": "[encoded data removed]",
      "text/plain": [
       "plot without title"
      ]
     },
     "metadata": {},
     "output_type": "display_data"
    }
   ],
   "source": [
    "ggplot(UBCF_cos_top_genre, aes(x = user, y = percent, fill = genre)) +\n",
    " geom_col() + labs(title = \"UBCF Cosine: Genre of highly rated Movies per User in the Top N list\")"
   ]
  },
  {
   "cell_type": "code",
   "execution_count": 135,
   "id": "346ce393-93a0-4ac6-a0b8-4a0eeb7f72ed",
   "metadata": {},
   "outputs": [
    {
     "name": "stderr",
     "output_type": "stream",
     "text": [
      "Warning message in coerce(MovieLense_user_movies_reduced_df, MovieLense):\n",
      "\"direct use of coerce() is deprecated:  use as(from, class(to)) instead\"`summarise()` has grouped output by 'user'. You can override using the `.groups` argument.\n"
     ]
    }
   ],
   "source": [
    "set.seed(SEED)\n",
    "eval_reduced <- recommenderlab::evaluationScheme(data = coerce(MovieLense_user_movies_reduced_df, MovieLense), \n",
    "                                                 method=\"split\", train=0.8, given=3)\n",
    "\n",
    "\n",
    "recommender <- Recommender(data = getData(eval_reduced, \"train\"), method = \"UBCF\", \n",
    "                            parameter = list(nn = 25, method = \"Jaccard\"))\n",
    "\n",
    "top_n = predict(recommender, test_user_selected, n=15)\n",
    "UBCF_jacc_top_n_genre = top_n_genres(top_n, Movie_Genre, 'UBCFJacc')"
   ]
  },
  {
   "cell_type": "code",
   "execution_count": 136,
   "id": "0adf1c00-0a95-42bf-866e-b1d05e6e7bb1",
   "metadata": {},
   "outputs": [
    {
     "data": {
      "image/png": "[encoded data removed]",
      "text/plain": [
       "plot without title"
      ]
     },
     "metadata": {},
     "output_type": "display_data"
    }
   ],
   "source": [
    "ggplot(UBCF_jacc_top_n_genre, aes(x = user, y = percent, fill = genre)) +\n",
    " geom_col() + labs(title = \"UBCF Jaccard: Genre of highly rated Movies per User in the Top N list\")"
   ]
  },
  {
   "cell_type": "code",
   "execution_count": 137,
   "id": "b921b3a7-d462-4f37-bdb8-f20212bd2ab7",
   "metadata": {},
   "outputs": [
    {
     "name": "stderr",
     "output_type": "stream",
     "text": [
      "Warning message in coerce(MovieLense_user_movies_reduced_df, MovieLense):\n",
      "\"direct use of coerce() is deprecated:  use as(from, class(to)) instead\"`summarise()` has grouped output by 'user'. You can override using the `.groups` argument.\n"
     ]
    }
   ],
   "source": [
    "set.seed(SEED)\n",
    "eval_reduced <- recommenderlab::evaluationScheme(data = coerce(MovieLense_user_movies_reduced_df, MovieLense), \n",
    "                                                 method=\"split\", train=0.8, given=3)\n",
    "\n",
    "\n",
    "recommender <- Recommender(data = getData(eval_reduced, \"train\"), method = \"SVD\", \n",
    "                            parameter = list(k = 5))\n",
    "\n",
    "top_n = predict(recommender, test_user_selected, n=15)\n",
    "SVD_5_top_n_genre = top_n_genres(top_n, Movie_Genre, 'SVD5')"
   ]
  },
  {
   "cell_type": "code",
   "execution_count": 138,
   "id": "5fcc71eb-5200-4952-a78a-825cb5c87be7",
   "metadata": {},
   "outputs": [
    {
     "data": {
      "image/png": "[encoded data removed]",
      "text/plain": [
       "plot without title"
      ]
     },
     "metadata": {},
     "output_type": "display_data"
    }
   ],
   "source": [
    "ggplot(SVD_5_top_n_genre, aes(x = user, y = percent, fill = genre)) +\n",
    " geom_col() + labs(title = \"SVD 5: Genre of highly rated Movies per User in the Top N list\")"
   ]
  },
  {
   "cell_type": "code",
   "execution_count": 139,
   "id": "6c624535-fcbc-4b83-a588-28311f6395eb",
   "metadata": {},
   "outputs": [
    {
     "name": "stderr",
     "output_type": "stream",
     "text": [
      "Warning message in coerce(MovieLense_user_movies_reduced_df, MovieLense):\n",
      "\"direct use of coerce() is deprecated:  use as(from, class(to)) instead\"`summarise()` has grouped output by 'user'. You can override using the `.groups` argument.\n"
     ]
    }
   ],
   "source": [
    "set.seed(SEED)\n",
    "eval_reduced <- recommenderlab::evaluationScheme(data = coerce(MovieLense_user_movies_reduced_df, MovieLense), \n",
    "                                                 method=\"split\", train=0.8, given=3)\n",
    "\n",
    "\n",
    "recommender <- Recommender(data = getData(eval_reduced, \"train\"), method = \"SVD\", \n",
    "                            parameter = list(k = 10))\n",
    "\n",
    "top_n = predict(recommender, test_user_selected, n=15)\n",
    "SVD_10_top_n_genre = top_n_genres(top_n, Movie_Genre, 'SVD10')"
   ]
  },
  {
   "cell_type": "code",
   "execution_count": 140,
   "id": "c2f84efb-05e2-4dfa-bea1-20f6f816df79",
   "metadata": {},
   "outputs": [
    {
     "data": {
      "image/png": "[encoded data removed]",
      "text/plain": [
       "plot without title"
      ]
     },
     "metadata": {},
     "output_type": "display_data"
    }
   ],
   "source": [
    "ggplot(SVD_10_top_n_genre, aes(x = user, y = percent, fill = genre)) +\n",
    " geom_col() + labs(title = \"SVD 5: Genre of highly rated Movies per User in the Top N list\")"
   ]
  },
  {
   "cell_type": "markdown",
   "id": "b2111a0d-d465-4461-8333-3f55628cd5e3",
   "metadata": {},
   "source": [
    "3. Bestimme pro Kunde den Anteil nach Genres seiner Top-Filme (=Filme, \n",
    "welche vom Kunden die besten Bewertungen erhalten haben),"
   ]
  },
  {
   "cell_type": "code",
   "execution_count": 185,
   "id": "2d888ee8-2712-4c0d-b84e-c042e1b17ae5",
   "metadata": {},
   "outputs": [],
   "source": [
    "fav_genre_of_users <- function(random_user_idx, MovieLenseData, Movie_Genre, top_rating=4){\n",
    "    #' @random_user_idx vector with random ints\n",
    "    #' @param MovieLenseData Movielense data.frame, containing how a user has rated a movie.\n",
    "    #' @param Movie_Genre melted MovieLenseData, containing at least the genre and the title of a movie\n",
    "    #' @top_rating min rating to consider a movie a top movie for a user (inclusive)\n",
    "    #' @param returns a data.frame with the genres of top rated movies by the user. \n",
    "    test_user_selected = as(names(as(test_user_selected, 'list')), 'matrix') # Ugly code is beautiful too.\n",
    "    Movie_Genre$item = Movie_Genre$title\n",
    "    user_top_genres <- MovieLenseData %>%\n",
    "        filter(user %in% test_user_selected) %>%\n",
    "        filter(rating >= top_rating) %>%\n",
    "        left_join(Movie_Genre, by = \"item\")  %>%\n",
    "        group_by(user, genre)  %>%\n",
    "        summarise(n = n()) %>% \n",
    "        mutate(percent =  100 *n/sum(n))\n",
    "    user_top_genres$TopGenres <- user_top_genres$percent\n",
    "        #select(user, genre, n)\n",
    "    return (user_top_genres)\n",
    "}"
   ]
  },
  {
   "cell_type": "code",
   "execution_count": 186,
   "id": "d0b205ce-f3ad-44e6-98d7-de878103d6c8",
   "metadata": {},
   "outputs": [
    {
     "name": "stderr",
     "output_type": "stream",
     "text": [
      "`summarise()` has grouped output by 'user'. You can override using the `.groups` argument.\n"
     ]
    }
   ],
   "source": [
    "fav_genres = fav_genre_of_users(test_user_selected, MovieLense_df, Movie_Genre)"
   ]
  },
  {
   "cell_type": "code",
   "execution_count": 187,
   "id": "3196da95-9b68-4e6a-ac7c-adf3135e7ecc",
   "metadata": {},
   "outputs": [
    {
     "data": {
      "image/png": "[encoded data removed]",
      "text/plain": [
       "plot without title"
      ]
     },
     "metadata": {},
     "output_type": "display_data"
    }
   ],
   "source": [
    "ggplot(fav_genres, aes(x = user, y = percent, fill = genre)) +\n",
    " geom_col() + labs(title = \"Genre of highly rated Movies per User\")\n",
    " #scale_y_continuous(labels = percentage)"
   ]
  },
  {
   "cell_type": "markdown",
   "id": "2f318c7d-a641-4edf-8435-9dcddbc771e8",
   "metadata": {},
   "source": [
    "4. Vergleiche pro Kunde Top-Empfehlungen und Top-Filmen nach Genres,"
   ]
  },
  {
   "cell_type": "code",
   "execution_count": 188,
   "id": "57990d8c-ad7a-4401-9cbf-65264d4eb33c",
   "metadata": {},
   "outputs": [],
   "source": [
    "all_top_n_genres <- fav_genres %>%\n",
    "    full_join(IBCF_top_genre, by=c('user', 'genre')) %>%\n",
    "    full_join(UBCF_cos_top_genre, by=c('user', 'genre')) %>%\n",
    "    full_join(UBCF_jacc_top_n_genre, by=c('user', 'genre')) %>%\n",
    "    full_join(SVD_5_top_n_genre, by=c('user', 'genre')) %>%\n",
    "    full_join(SVD_10_top_n_genre, by=c('user', 'genre')) %>%\n",
    "    select_at(vars(-ends_with(\".y\"))) %>%\n",
    "    select_at(vars(-ends_with(\".x\"))) \n",
    "\n",
    "all_top_n_genres[is.na(all_top_n_genres)] = 0\n",
    "\n",
    "all_top_n_genres_melted = melt(all_top_n_genres, id.vars = c(\"user\", \"genre\"), measure.vars = c(\"TopGenres\", \"IBCFCos\", \"UBCFCos\", \"UBCFJacc\", \"SVD5\", \"SVD10\"))"
   ]
  },
  {
   "cell_type": "code",
   "execution_count": 189,
   "id": "c6ea066f-b3c5-4a86-b47a-582c08fa54f4",
   "metadata": {},
   "outputs": [
    {
     "data": {
      "text/html": [
       "<table>\n",
       "<thead><tr><th scope=col>user</th><th scope=col>genre</th><th scope=col>variable</th><th scope=col>value</th></tr></thead>\n",
       "<tbody>\n",
       "\t<tr><td>22        </td><td>Action    </td><td>TopGenres </td><td>23.5897436</td></tr>\n",
       "\t<tr><td>22        </td><td>Adventure </td><td>TopGenres </td><td>11.7948718</td></tr>\n",
       "\t<tr><td>22        </td><td>Comedy    </td><td>TopGenres </td><td>17.9487179</td></tr>\n",
       "\t<tr><td>22        </td><td>Crime     </td><td>TopGenres </td><td> 3.0769231</td></tr>\n",
       "\t<tr><td>22        </td><td>Drama     </td><td>TopGenres </td><td> 7.6923077</td></tr>\n",
       "\t<tr><td>22        </td><td>Film-Noir </td><td>TopGenres </td><td> 0.5128205</td></tr>\n",
       "</tbody>\n",
       "</table>\n"
      ],
      "text/latex": [
       "\\begin{tabular}{r|llll}\n",
       " user & genre & variable & value\\\\\n",
       "\\hline\n",
       "\t 22         & Action     & TopGenres  & 23.5897436\\\\\n",
       "\t 22         & Adventure  & TopGenres  & 11.7948718\\\\\n",
       "\t 22         & Comedy     & TopGenres  & 17.9487179\\\\\n",
       "\t 22         & Crime      & TopGenres  &  3.0769231\\\\\n",
       "\t 22         & Drama      & TopGenres  &  7.6923077\\\\\n",
       "\t 22         & Film-Noir  & TopGenres  &  0.5128205\\\\\n",
       "\\end{tabular}\n"
      ],
      "text/markdown": [
       "\n",
       "| user | genre | variable | value |\n",
       "|---|---|---|---|\n",
       "| 22         | Action     | TopGenres  | 23.5897436 |\n",
       "| 22         | Adventure  | TopGenres  | 11.7948718 |\n",
       "| 22         | Comedy     | TopGenres  | 17.9487179 |\n",
       "| 22         | Crime      | TopGenres  |  3.0769231 |\n",
       "| 22         | Drama      | TopGenres  |  7.6923077 |\n",
       "| 22         | Film-Noir  | TopGenres  |  0.5128205 |\n",
       "\n"
      ],
      "text/plain": [
       "  user genre     variable  value     \n",
       "1 22   Action    TopGenres 23.5897436\n",
       "2 22   Adventure TopGenres 11.7948718\n",
       "3 22   Comedy    TopGenres 17.9487179\n",
       "4 22   Crime     TopGenres  3.0769231\n",
       "5 22   Drama     TopGenres  7.6923077\n",
       "6 22   Film-Noir TopGenres  0.5128205"
      ]
     },
     "metadata": {},
     "output_type": "display_data"
    }
   ],
   "source": [
    "head(all_top_n_genres_melted)"
   ]
  },
  {
   "cell_type": "code",
   "execution_count": 190,
   "id": "4ab0a853-8f0c-44a6-aa92-11975b2d5cd5",
   "metadata": {},
   "outputs": [
    {
     "data": {
      "text/html": [
       "<table>\n",
       "<thead><tr><th scope=col>user</th><th scope=col>genre</th><th scope=col>variable</th><th scope=col>value</th></tr></thead>\n",
       "<tbody>\n",
       "\t<tr><td>22       </td><td>Action   </td><td>SVD10    </td><td>10.810811</td></tr>\n",
       "\t<tr><td>22       </td><td>Adventure</td><td>SVD10    </td><td>10.810811</td></tr>\n",
       "\t<tr><td>22       </td><td>Comedy   </td><td>SVD10    </td><td> 8.108108</td></tr>\n",
       "\t<tr><td>22       </td><td>Crime    </td><td>SVD10    </td><td> 8.108108</td></tr>\n",
       "\t<tr><td>22       </td><td>Drama    </td><td>SVD10    </td><td>18.918919</td></tr>\n",
       "\t<tr><td>22       </td><td>Film-Noir</td><td>SVD10    </td><td> 0.000000</td></tr>\n",
       "</tbody>\n",
       "</table>\n"
      ],
      "text/latex": [
       "\\begin{tabular}{r|llll}\n",
       " user & genre & variable & value\\\\\n",
       "\\hline\n",
       "\t 22        & Action    & SVD10     & 10.810811\\\\\n",
       "\t 22        & Adventure & SVD10     & 10.810811\\\\\n",
       "\t 22        & Comedy    & SVD10     &  8.108108\\\\\n",
       "\t 22        & Crime     & SVD10     &  8.108108\\\\\n",
       "\t 22        & Drama     & SVD10     & 18.918919\\\\\n",
       "\t 22        & Film-Noir & SVD10     &  0.000000\\\\\n",
       "\\end{tabular}\n"
      ],
      "text/markdown": [
       "\n",
       "| user | genre | variable | value |\n",
       "|---|---|---|---|\n",
       "| 22        | Action    | SVD10     | 10.810811 |\n",
       "| 22        | Adventure | SVD10     | 10.810811 |\n",
       "| 22        | Comedy    | SVD10     |  8.108108 |\n",
       "| 22        | Crime     | SVD10     |  8.108108 |\n",
       "| 22        | Drama     | SVD10     | 18.918919 |\n",
       "| 22        | Film-Noir | SVD10     |  0.000000 |\n",
       "\n"
      ],
      "text/plain": [
       "  user genre     variable value    \n",
       "1 22   Action    SVD10    10.810811\n",
       "2 22   Adventure SVD10    10.810811\n",
       "3 22   Comedy    SVD10     8.108108\n",
       "4 22   Crime     SVD10     8.108108\n",
       "5 22   Drama     SVD10    18.918919\n",
       "6 22   Film-Noir SVD10     0.000000"
      ]
     },
     "metadata": {},
     "output_type": "display_data"
    }
   ],
   "source": [
    "all_top_n_genres_melted_u22_test <- all_top_n_genres_melted_u22 %>%\n",
    "    filter(variable==\"SVD10\")\n",
    "head(all_top_n_genres_melted_u22_test)"
   ]
  },
  {
   "cell_type": "code",
   "execution_count": 182,
   "id": "203a0cd8-9f1e-4981-9ad9-c4517532731a",
   "metadata": {},
   "outputs": [
    {
     "data": {
      "text/html": [
       "<table>\n",
       "<thead><tr><th scope=col>user</th><th scope=col>genre</th><th scope=col>variable</th><th scope=col>value</th></tr></thead>\n",
       "<tbody>\n",
       "\t<tr><td>22       </td><td>Action   </td><td>SVD10    </td><td>10.810811</td></tr>\n",
       "\t<tr><td>22       </td><td>Adventure</td><td>SVD10    </td><td>10.810811</td></tr>\n",
       "\t<tr><td>22       </td><td>Comedy   </td><td>SVD10    </td><td> 8.108108</td></tr>\n",
       "\t<tr><td>22       </td><td>Crime    </td><td>SVD10    </td><td> 8.108108</td></tr>\n",
       "\t<tr><td>22       </td><td>Drama    </td><td>SVD10    </td><td>18.918919</td></tr>\n",
       "\t<tr><td>22       </td><td>Film-Noir</td><td>SVD10    </td><td> 0.000000</td></tr>\n",
       "\t<tr><td>22       </td><td>Horror   </td><td>SVD10    </td><td> 0.000000</td></tr>\n",
       "\t<tr><td>22       </td><td>Musical  </td><td>SVD10    </td><td> 2.702703</td></tr>\n",
       "\t<tr><td>22       </td><td>Romance  </td><td>SVD10    </td><td> 8.108108</td></tr>\n",
       "\t<tr><td>22       </td><td>Sci-Fi   </td><td>SVD10    </td><td> 8.108108</td></tr>\n",
       "\t<tr><td>22       </td><td>Thriller </td><td>SVD10    </td><td> 5.405405</td></tr>\n",
       "\t<tr><td>22       </td><td>War      </td><td>SVD10    </td><td> 8.108108</td></tr>\n",
       "\t<tr><td>22       </td><td>Western  </td><td>SVD10    </td><td> 0.000000</td></tr>\n",
       "</tbody>\n",
       "</table>\n"
      ],
      "text/latex": [
       "\\begin{tabular}{r|llll}\n",
       " user & genre & variable & value\\\\\n",
       "\\hline\n",
       "\t 22        & Action    & SVD10     & 10.810811\\\\\n",
       "\t 22        & Adventure & SVD10     & 10.810811\\\\\n",
       "\t 22        & Comedy    & SVD10     &  8.108108\\\\\n",
       "\t 22        & Crime     & SVD10     &  8.108108\\\\\n",
       "\t 22        & Drama     & SVD10     & 18.918919\\\\\n",
       "\t 22        & Film-Noir & SVD10     &  0.000000\\\\\n",
       "\t 22        & Horror    & SVD10     &  0.000000\\\\\n",
       "\t 22        & Musical   & SVD10     &  2.702703\\\\\n",
       "\t 22        & Romance   & SVD10     &  8.108108\\\\\n",
       "\t 22        & Sci-Fi    & SVD10     &  8.108108\\\\\n",
       "\t 22        & Thriller  & SVD10     &  5.405405\\\\\n",
       "\t 22        & War       & SVD10     &  8.108108\\\\\n",
       "\t 22        & Western   & SVD10     &  0.000000\\\\\n",
       "\\end{tabular}\n"
      ],
      "text/markdown": [
       "\n",
       "| user | genre | variable | value |\n",
       "|---|---|---|---|\n",
       "| 22        | Action    | SVD10     | 10.810811 |\n",
       "| 22        | Adventure | SVD10     | 10.810811 |\n",
       "| 22        | Comedy    | SVD10     |  8.108108 |\n",
       "| 22        | Crime     | SVD10     |  8.108108 |\n",
       "| 22        | Drama     | SVD10     | 18.918919 |\n",
       "| 22        | Film-Noir | SVD10     |  0.000000 |\n",
       "| 22        | Horror    | SVD10     |  0.000000 |\n",
       "| 22        | Musical   | SVD10     |  2.702703 |\n",
       "| 22        | Romance   | SVD10     |  8.108108 |\n",
       "| 22        | Sci-Fi    | SVD10     |  8.108108 |\n",
       "| 22        | Thriller  | SVD10     |  5.405405 |\n",
       "| 22        | War       | SVD10     |  8.108108 |\n",
       "| 22        | Western   | SVD10     |  0.000000 |\n",
       "\n"
      ],
      "text/plain": [
       "   user genre     variable value    \n",
       "1  22   Action    SVD10    10.810811\n",
       "2  22   Adventure SVD10    10.810811\n",
       "3  22   Comedy    SVD10     8.108108\n",
       "4  22   Crime     SVD10     8.108108\n",
       "5  22   Drama     SVD10    18.918919\n",
       "6  22   Film-Noir SVD10     0.000000\n",
       "7  22   Horror    SVD10     0.000000\n",
       "8  22   Musical   SVD10     2.702703\n",
       "9  22   Romance   SVD10     8.108108\n",
       "10 22   Sci-Fi    SVD10     8.108108\n",
       "11 22   Thriller  SVD10     5.405405\n",
       "12 22   War       SVD10     8.108108\n",
       "13 22   Western   SVD10     0.000000"
      ]
     },
     "metadata": {},
     "output_type": "display_data"
    }
   ],
   "source": [
    "all_top_n_genres_melted_u22_test"
   ]
  },
  {
   "cell_type": "code",
   "execution_count": 193,
   "id": "1a9f8ad7-0514-4472-80c2-8e1b762f60f2",
   "metadata": {},
   "outputs": [
    {
     "data": {
      "image/png": "[encoded data removed]",
      "text/plain": [
       "plot without title"
      ]
     },
     "metadata": {},
     "output_type": "display_data"
    }
   ],
   "source": [
    "all_top_n_genres_melted_u22 <- all_top_n_genres_melted %>%\n",
    "    filter(user==22)\n",
    "ggplot(all_top_n_genres_melted_u22, aes(x = variable, y = value, fill = genre)) +\n",
    " geom_col() + labs(title = \"Genre distribution of User 22\")\n",
    " #scale_y_continuous(labels = percentage)"
   ]
  },
  {
   "cell_type": "code",
   "execution_count": 195,
   "id": "422c17cc-fe09-4d69-a914-98bb1d00380b",
   "metadata": {},
   "outputs": [
    {
     "data": {
      "image/png": "[encoded data removed]",
      "text/plain": [
       "plot without title"
      ]
     },
     "metadata": {},
     "output_type": "display_data"
    }
   ],
   "source": [
    "all_top_n_genres_melted_u911 <- all_top_n_genres_melted %>%\n",
    "    filter(user==911)\n",
    "ggplot(all_top_n_genres_melted_u22, aes(x = variable, y = value, fill = genre)) +\n",
    " geom_col() + labs(title = \"Genre distribution of User 911\")\n",
    " #scale_y_continuous(labels = percentage)"
   ]
  },
  {
   "cell_type": "code",
   "execution_count": 219,
   "id": "3e0c4b0a-12d5-4223-9866-b1792cbb4a74",
   "metadata": {},
   "outputs": [],
   "source": [
    "cols = colnames(all_top_n_genres)[c(4:8)]\n",
    "df <- data.frame(matrix(ncol = length(cols), nrow = 1))\n",
    "colnames(df) <- cols"
   ]
  },
  {
   "cell_type": "code",
   "execution_count": 220,
   "id": "e2967094-2a38-4882-a976-6b071aa938b0",
   "metadata": {},
   "outputs": [
    {
     "data": {
      "text/plain": [
       "NULL"
      ]
     },
     "metadata": {},
     "output_type": "display_data"
    }
   ],
   "source": [
    "df[1, \"TopGenres\"]"
   ]
  },
  {
   "cell_type": "code",
   "execution_count": 221,
   "id": "1fd74260-dbf9-4535-b004-0dbee563cd0a",
   "metadata": {},
   "outputs": [
    {
     "data": {
      "text/html": [
       "<table>\n",
       "<thead><tr><th scope=col>IBCFCos</th><th scope=col>UBCFCos</th><th scope=col>UBCFJacc</th><th scope=col>SVD5</th><th scope=col>SVD10</th></tr></thead>\n",
       "<tbody>\n",
       "\t<tr><td>NA</td><td>NA</td><td>NA</td><td>NA</td><td>NA</td></tr>\n",
       "</tbody>\n",
       "</table>\n"
      ],
      "text/latex": [
       "\\begin{tabular}{r|lllll}\n",
       " IBCFCos & UBCFCos & UBCFJacc & SVD5 & SVD10\\\\\n",
       "\\hline\n",
       "\t NA & NA & NA & NA & NA\\\\\n",
       "\\end{tabular}\n"
      ],
      "text/markdown": [
       "\n",
       "| IBCFCos | UBCFCos | UBCFJacc | SVD5 | SVD10 |\n",
       "|---|---|---|---|---|\n",
       "| NA | NA | NA | NA | NA |\n",
       "\n"
      ],
      "text/plain": [
       "  IBCFCos UBCFCos UBCFJacc SVD5 SVD10\n",
       "1 NA      NA      NA       NA   NA   "
      ]
     },
     "metadata": {},
     "output_type": "display_data"
    }
   ],
   "source": [
    "df"
   ]
  },
  {
   "cell_type": "code",
   "execution_count": 207,
   "id": "93ddf0e5-03f3-4b87-ae36-144586f33980",
   "metadata": {},
   "outputs": [
    {
     "data": {
      "text/html": [
       "<ol class=list-inline>\n",
       "\t<li>'TopGenres'</li>\n",
       "\t<li>'IBCFCos'</li>\n",
       "\t<li>'UBCFCos'</li>\n",
       "\t<li>'UBCFJacc'</li>\n",
       "\t<li>'SVD5'</li>\n",
       "\t<li>'SVD10'</li>\n",
       "</ol>\n"
      ],
      "text/latex": [
       "\\begin{enumerate*}\n",
       "\\item 'TopGenres'\n",
       "\\item 'IBCFCos'\n",
       "\\item 'UBCFCos'\n",
       "\\item 'UBCFJacc'\n",
       "\\item 'SVD5'\n",
       "\\item 'SVD10'\n",
       "\\end{enumerate*}\n"
      ],
      "text/markdown": [
       "1. 'TopGenres'\n",
       "2. 'IBCFCos'\n",
       "3. 'UBCFCos'\n",
       "4. 'UBCFJacc'\n",
       "5. 'SVD5'\n",
       "6. 'SVD10'\n",
       "\n",
       "\n"
      ],
      "text/plain": [
       "[1] \"TopGenres\" \"IBCFCos\"   \"UBCFCos\"   \"UBCFJacc\"  \"SVD5\"      \"SVD10\"    "
      ]
     },
     "metadata": {},
     "output_type": "display_data"
    }
   ],
   "source": [
    "calc_genre_similarity <- function(all_top_n_genres, cols){\n",
    "}"
   ]
  },
  {
   "cell_type": "code",
   "execution_count": 239,
   "id": "9a393383-fa2e-4410-b2bc-4a077cce8110",
   "metadata": {},
   "outputs": [],
   "source": [
    "calc_genre_err <- function(all_top_n_genres, cols){\n",
    "    #' @all_top_n_genres dataframe containing the top genres from top rated movies of users and predictions done by different models.\n",
    "    #' @cols Column names with the genre distributions of predictions.\n",
    "    #' @param returns a data.frame with the absolute error of genre difference between the user rated movies and the predicted movies.\n",
    "    df <- data.frame(matrix(ncol = length(cols), nrow = 1))\n",
    "    colnames(df) <- cols\n",
    "    top_genres <- all_top_n_genres$TopGenres\n",
    "    for (col in cols){\n",
    "        df_tmp = sum(abs(top_genres - all_top_n_genres[,col])) / length(top_genres)\n",
    "        df[1, col] <- df_tmp\n",
    "    }\n",
    "    return (df)\n",
    "}"
   ]
  },
  {
   "cell_type": "code",
   "execution_count": 241,
   "id": "3529574f-5211-401d-a33d-c573136a3097",
   "metadata": {},
   "outputs": [],
   "source": [
    "genre_error = calc_genre_err(all_top_n_genres, colnames(all_top_n_genres)[c(4:8)])"
   ]
  },
  {
   "cell_type": "code",
   "execution_count": 245,
   "id": "6089644f-659d-4a3b-ad81-ebfc328b066d",
   "metadata": {},
   "outputs": [
    {
     "name": "stderr",
     "output_type": "stream",
     "text": [
      "No id variables; using all as measure variables\n"
     ]
    },
    {
     "data": {
      "text/html": [
       "<table>\n",
       "<thead><tr><th scope=col>variable</th><th scope=col>value</th></tr></thead>\n",
       "<tbody>\n",
       "\t<tr><td>IBCFCos </td><td>3.631587</td></tr>\n",
       "\t<tr><td>UBCFCos </td><td>4.301079</td></tr>\n",
       "\t<tr><td>UBCFJacc</td><td>5.316868</td></tr>\n",
       "\t<tr><td>SVD5    </td><td>3.220665</td></tr>\n",
       "\t<tr><td>SVD10   </td><td>3.303796</td></tr>\n",
       "</tbody>\n",
       "</table>\n"
      ],
      "text/latex": [
       "\\begin{tabular}{r|ll}\n",
       " variable & value\\\\\n",
       "\\hline\n",
       "\t IBCFCos  & 3.631587\\\\\n",
       "\t UBCFCos  & 4.301079\\\\\n",
       "\t UBCFJacc & 5.316868\\\\\n",
       "\t SVD5     & 3.220665\\\\\n",
       "\t SVD10    & 3.303796\\\\\n",
       "\\end{tabular}\n"
      ],
      "text/markdown": [
       "\n",
       "| variable | value |\n",
       "|---|---|\n",
       "| IBCFCos  | 3.631587 |\n",
       "| UBCFCos  | 4.301079 |\n",
       "| UBCFJacc | 5.316868 |\n",
       "| SVD5     | 3.220665 |\n",
       "| SVD10    | 3.303796 |\n",
       "\n"
      ],
      "text/plain": [
       "  variable value   \n",
       "1 IBCFCos  3.631587\n",
       "2 UBCFCos  4.301079\n",
       "3 UBCFJacc 5.316868\n",
       "4 SVD5     3.220665\n",
       "5 SVD10    3.303796"
      ]
     },
     "metadata": {},
     "output_type": "display_data"
    }
   ],
   "source": [
    "melt(genre_error)"
   ]
  },
  {
   "cell_type": "code",
   "execution_count": 243,
   "id": "12105c63-5806-460e-bc2c-38924933d6db",
   "metadata": {},
   "outputs": [
    {
     "name": "stderr",
     "output_type": "stream",
     "text": [
      "No id variables; using all as measure variables\n"
     ]
    },
    {
     "data": {
      "image/png": "[encoded data removed]",
      "text/plain": [
       "plot without title"
      ]
     },
     "metadata": {},
     "output_type": "display_data"
    }
   ],
   "source": [
    "ggplot(melt(genre_error), aes(x = variable, y = value, fill = variable)) +\n",
    " geom_col() + labs(title = \"Genre distribution of User 911\")\n",
    " #scale_y_continuous(labels = percentage)"
   ]
  },
  {
   "cell_type": "markdown",
   "id": "9386c9b7-c228-4a67-8067-a381c545243c",
   "metadata": {},
   "source": [
    "5.Definiere eine Qualitätsmetrik für Top-N Listen und teste sie."
   ]
  },
  {
   "cell_type": "code",
   "execution_count": 246,
   "id": "828ef246-0a4e-4837-8406-0f4addba0f62",
   "metadata": {},
   "outputs": [
    {
     "name": "stderr",
     "output_type": "stream",
     "text": [
      "No id variables; using all as measure variables\n"
     ]
    },
    {
     "data": {
      "image/png": "[encoded data removed]",
      "text/plain": [
       "plot without title"
      ]
     },
     "metadata": {},
     "output_type": "display_data"
    }
   ],
   "source": [
    "ggplot(melt(genre_error), aes(x = variable, y = value, fill = variable)) +\n",
    " geom_col() + labs(title = \"Genre distribution of User 911\")\n",
    " #scale_y_continuous(labels = percentage)"
   ]
  },
  {
   "cell_type": "code",
   "execution_count": null,
   "id": "6aae08cb-23ce-4573-a46d-5f632eef47a9",
   "metadata": {},
   "outputs": [],
   "source": []
  }
 ],
 "metadata": {
  "kernelspec": {
   "display_name": "R",
   "language": "R",
   "name": "ir"
  },
  "language_info": {
   "codemirror_mode": "r",
   "file_extension": ".r",
   "mimetype": "text/x-r-source",
   "name": "R",
   "pygments_lexer": "r",
   "version": "3.6.1"
  }
 },
 "nbformat": 4,
 "nbformat_minor": 5
}
