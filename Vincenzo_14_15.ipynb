{
 "cells": [
  {
   "cell_type": "code",
   "execution_count": 2,
   "id": "46b239b6-b84a-4c33-b4b9-022018e2290b",
   "metadata": {},
   "outputs": [
    {
     "name": "stderr",
     "output_type": "stream",
     "text": [
      "also installing the dependencies 'float', 'RcppProgress', 'ellipsis', 'arules', 'proxy', 'registry', 'irlba', 'recosystem', 'glue', 'lifecycle', 'rlang', 'tibble', 'tidyselect', 'vctrs', 'pillar', 'isoband', 'cpp11'\n",
      "\n"
     ]
    },
    {
     "name": "stdout",
     "output_type": "stream",
     "text": [
      "\n",
      "  There are binary versions available but the source versions are later:\n",
      "           binary source needs_compilation\n",
      "float       0.2-4  0.2-6              TRUE\n",
      "arules      1.6-7  1.7-0              TRUE\n",
      "proxy      0.4-25 0.4-26              TRUE\n",
      "recosystem  0.4.4    0.5              TRUE\n",
      "glue        1.4.2  1.5.0              TRUE\n",
      "lifecycle   1.0.0  1.0.1             FALSE\n",
      "rlang      0.4.11 0.4.12              TRUE\n",
      "tibble      3.1.1  3.1.6              TRUE\n",
      "pillar      1.6.0  1.6.4             FALSE\n",
      "isoband     0.2.4  0.2.5              TRUE\n",
      "cpp11       0.2.7  0.4.1             FALSE\n",
      "dplyr       1.0.6  1.0.7              TRUE\n",
      "ggplot2     3.3.3  3.3.5             FALSE\n",
      "tidyr       1.1.3  1.1.4              TRUE\n",
      "coop        0.6-2  0.6-3              TRUE\n",
      "\n",
      "  Binaries will be installed\n",
      "package 'float' successfully unpacked and MD5 sums checked\n",
      "package 'RcppProgress' successfully unpacked and MD5 sums checked\n",
      "package 'ellipsis' successfully unpacked and MD5 sums checked\n",
      "package 'arules' successfully unpacked and MD5 sums checked\n",
      "package 'proxy' successfully unpacked and MD5 sums checked\n",
      "package 'registry' successfully unpacked and MD5 sums checked\n",
      "package 'irlba' successfully unpacked and MD5 sums checked\n",
      "package 'recosystem' successfully unpacked and MD5 sums checked\n",
      "package 'glue' successfully unpacked and MD5 sums checked\n",
      "package 'rlang' successfully unpacked and MD5 sums checked\n",
      "package 'tibble' successfully unpacked and MD5 sums checked\n",
      "package 'tidyselect' successfully unpacked and MD5 sums checked\n",
      "package 'vctrs' successfully unpacked and MD5 sums checked\n",
      "package 'isoband' successfully unpacked and MD5 sums checked\n",
      "package 'recommenderlab' successfully unpacked and MD5 sums checked\n",
      "package 'dplyr' successfully unpacked and MD5 sums checked\n",
      "package 'ggridges' successfully unpacked and MD5 sums checked\n",
      "package 'tidyr' successfully unpacked and MD5 sums checked\n",
      "package 'coop' successfully unpacked and MD5 sums checked\n",
      "package 'gridExtra' successfully unpacked and MD5 sums checked\n",
      "\n",
      "The downloaded binary packages are in\n",
      "\tC:\\Users\\vince\\AppData\\Local\\Temp\\RtmpobLxvR\\downloaded_packages\n"
     ]
    },
    {
     "name": "stderr",
     "output_type": "stream",
     "text": [
      "installing the source packages 'lifecycle', 'pillar', 'cpp11', 'ggplot2'\n",
      "\n",
      "Warning message in install.packages(c(\"recommenderlab\", \"dplyr\", \"ggplot2\", \"ggridges\", :\n",
      "\"installation of package 'ggplot2' had non-zero exit status\""
     ]
    }
   ],
   "source": [
    "install.packages(c(\"recommenderlab\", \"dplyr\", \"ggplot2\", \"ggridges\", \"tidyr\", \"coop\", \"gridExtra\"))"
   ]
  },
  {
   "cell_type": "code",
   "execution_count": 3,
   "id": "0447a5e8-4dce-4318-ac90-b51d57925cf7",
   "metadata": {},
   "outputs": [
    {
     "name": "stderr",
     "output_type": "stream",
     "text": [
      "Warning message:\n",
      "\"package 'recommenderlab' was built under R version 3.6.3\"Loading required package: Matrix\n",
      "Loading required package: arules\n",
      "Warning message:\n",
      "\"package 'arules' was built under R version 3.6.3\"\n",
      "Attaching package: 'arules'\n",
      "\n",
      "The following objects are masked from 'package:base':\n",
      "\n",
      "    abbreviate, write\n",
      "\n",
      "Loading required package: proxy\n",
      "Warning message:\n",
      "\"package 'proxy' was built under R version 3.6.3\"\n",
      "Attaching package: 'proxy'\n",
      "\n",
      "The following object is masked from 'package:Matrix':\n",
      "\n",
      "    as.matrix\n",
      "\n",
      "The following objects are masked from 'package:stats':\n",
      "\n",
      "    as.dist, dist\n",
      "\n",
      "The following object is masked from 'package:base':\n",
      "\n",
      "    as.matrix\n",
      "\n",
      "Loading required package: registry\n",
      "Registered S3 methods overwritten by 'registry':\n",
      "  method               from \n",
      "  print.registry_field proxy\n",
      "  print.registry_entry proxy\n",
      "Warning message:\n",
      "\"package 'dplyr' was built under R version 3.6.3\"\n",
      "Attaching package: 'dplyr'\n",
      "\n",
      "The following objects are masked from 'package:arules':\n",
      "\n",
      "    intersect, recode, setdiff, setequal, union\n",
      "\n",
      "The following objects are masked from 'package:stats':\n",
      "\n",
      "    filter, lag\n",
      "\n",
      "The following objects are masked from 'package:base':\n",
      "\n",
      "    intersect, setdiff, setequal, union\n",
      "\n",
      "Registered S3 methods overwritten by 'ggplot2':\n",
      "  method         from \n",
      "  [.quosures     rlang\n",
      "  c.quosures     rlang\n",
      "  print.quosures rlang\n",
      "Warning message:\n",
      "\"package 'ggridges' was built under R version 3.6.3\"Warning message:\n",
      "\"package 'tidyr' was built under R version 3.6.3\"\n",
      "Attaching package: 'tidyr'\n",
      "\n",
      "The following objects are masked from 'package:Matrix':\n",
      "\n",
      "    expand, pack, unpack\n",
      "\n",
      "Warning message:\n",
      "\"package 'coop' was built under R version 3.6.2\"Warning message:\n",
      "\"package 'gridExtra' was built under R version 3.6.3\"\n",
      "Attaching package: 'gridExtra'\n",
      "\n",
      "The following object is masked from 'package:dplyr':\n",
      "\n",
      "    combine\n",
      "\n"
     ]
    }
   ],
   "source": [
    "library(recommenderlab)\n",
    "library(dplyr)\n",
    "library(ggplot2)\n",
    "library(ggridges)\n",
    "library(tidyr)\n",
    "library(coop)\n",
    "library(gridExtra)"
   ]
  },
  {
   "cell_type": "markdown",
   "id": "e1bd5edc-5ae5-42f2-a463-9c902190be3c",
   "metadata": {},
   "source": [
    "Aufgabe: Reduziere den MovieLense Datensatz auf rund 400 Kunden \n",
    "und 700 Filme, indem du Filme und Kunden  mit sehr wenigen Ratings \n",
    "entfernst.\n",
    "Untersuche und dokumentiere die Eigenschaften des reduzierten \n",
    "Datensatzes und beschreibe den Effekt der Datenreduktion:\n",
    "  1.Anzahl Filme und Kunden sowie Sparsity vor und nach Datenreduktion"
   ]
  },
  {
   "cell_type": "code",
   "execution_count": 264,
   "id": "f3f0d1d2-fdac-442d-b1d7-b3b21b12d86b",
   "metadata": {},
   "outputs": [],
   "source": [
    "data(MovieLense)\n",
    "MovieLense_df <- as(MovieLense, \"data.frame\")\n",
    "MovieLenseMeta_df <- as(MovieLenseMeta, \"data.frame\")\n",
    "MOVIE_MIN_RATED = 700\n",
    "USER_MIN_RATED = 400\n",
    "SEED = 42\n",
    "set.seed(SEED)\n",
    "\n",
    "movies_min_rated <- MovieLense_df %>%\n",
    "  count(item) %>%\n",
    "  arrange(desc(n)) %>%\n",
    "  head(MOVIE_MIN_RATED) %>%\n",
    "  select(item)\n",
    "\n",
    "MovieLense_user_movies_reduced_df <- MovieLense_df %>%\n",
    "  inner_join(movies_min_rated, by='item')\n",
    "\n",
    "user_min_movies_rated <- MovieLense_user_movies_reduced_df %>%\n",
    "  count(user) %>%\n",
    "  arrange(desc(n)) %>%\n",
    "  head(USER_MIN_RATED) %>%\n",
    "  select(user)\n",
    "\n",
    "MovieLense_user_movies_reduced_df <- MovieLense_user_movies_reduced_df %>%\n",
    "  inner_join(user_min_movies_rated, by='user') \n",
    "\n",
    "Movie_Genre <- MovieLenseMeta %>%\n",
    "  pivot_longer(cols=c(unknown:Western)) %>%\n",
    "  filter(value==1) %>% \n",
    "  rename(genre = name)"
   ]
  },
  {
   "cell_type": "code",
   "execution_count": 51,
   "id": "3a2ab487-fa94-466a-81b5-35bd2f0b7135",
   "metadata": {},
   "outputs": [
    {
     "name": "stderr",
     "output_type": "stream",
     "text": [
      "Warning message in coerce(MovieLense_user_movies_reduced_df, MovieLense):\n",
      "\"direct use of coerce() is deprecated:  use as(from, class(to)) instead\""
     ]
    },
    {
     "name": "stdout",
     "output_type": "stream",
     "text": [
      "IBCF run fold/sample [model time/prediction time]\n",
      "\t 1  [1.24sec/0sec] \n"
     ]
    },
    {
     "data": {
      "image/png": "[encoded data removed]",
      "text/plain": [
       "plot without title"
      ]
     },
     "metadata": {},
     "output_type": "display_data"
    },
    {
     "data": {
      "image/png": "[encoded data removed]",
      "text/plain": [
       "plot without title"
      ]
     },
     "metadata": {},
     "output_type": "display_data"
    }
   ],
   "source": [
    "set.seed(SEED)\n",
    "# Let's check some algorithms against each other\n",
    "scheme <- recommenderlab::evaluationScheme(coerce(MovieLense_user_movies_reduced_df,MovieLense) , method = \"split\", train = 0.8,\n",
    "                          given = 3, goodRating = 4)\n",
    "\n",
    "\n",
    "algorithms <- list(\n",
    "  \"item-based CF\" = list(name=\"IBCF\", param=list(normalize = \"Z-score\"))\n",
    "  )\n",
    "\n",
    "# run algorithms, predict next n movies\n",
    "n = c(5, 10, 15, 20, 25, 30)\n",
    "results <- evaluate(scheme, algorithms, n=n)\n",
    "\n",
    "# Draw ROC curve\n",
    "plot(results, annotate = 1:4, legend=\"topleft\")\n",
    "\n",
    "# See precision / recall\n",
    "plot(results, \"prec/rec\", annotate=3)"
   ]
  },
  {
   "cell_type": "code",
   "execution_count": 53,
   "id": "f1dd31c4-7b9b-4ccb-9641-43f868cf9bc9",
   "metadata": {},
   "outputs": [
    {
     "name": "stderr",
     "output_type": "stream",
     "text": [
      "Warning message in coerce(MovieLense_user_movies_reduced_df, MovieLense):\n",
      "\"direct use of coerce() is deprecated:  use as(from, class(to)) instead\""
     ]
    }
   ],
   "source": [
    "set.seed(SEED)\n",
    "eval_reduced <- recommenderlab::evaluationScheme(data = coerce(MovieLense_user_movies_reduced_df, MovieLense), \n",
    "                                                 method=\"split\", train=0.8, given=3)\n",
    "\n",
    "\n",
    "IBCF_reduced <- Recommender(data = getData(eval_reduced, \"train\"), method = \"IBCF\", \n",
    "                            parameter = list(k = 30, method = \"Cosine\", na_as_zero=TRUE))\n"
   ]
  },
  {
   "cell_type": "code",
   "execution_count": 440,
   "id": "ce3b1adc-0b26-4833-bf3b-bba79ea0a06c",
   "metadata": {},
   "outputs": [
    {
     "data": {
      "text/html": [
       "<table>\n",
       "<thead><tr><th></th><th scope=col>user</th><th scope=col>rating</th><th scope=col>index</th><th scope=col>item</th><th scope=col>year</th></tr></thead>\n",
       "<tbody>\n",
       "\t<tr><th scope=row>1151</th><td>115                                                       </td><td>5.000000                                                  </td><td>  1                                                       </td><td>101 Dalmatians (1996)                                     </td><td>1995                                                      </td></tr>\n",
       "\t<tr><th scope=row>1606</th><td>115                                                       </td><td>5.000000                                                  </td><td>237                                                       </td><td>First Knight (1995)                                       </td><td>1996                                                      </td></tr>\n",
       "\t<tr><th scope=row>24911</th><td>115                                                       </td><td>5.000000                                                  </td><td>591                                                       </td><td>Sphere (1998)                                             </td><td>1996                                                      </td></tr>\n",
       "\t<tr><th scope=row>2791</th><td>115                                                       </td><td>4.268087                                                  </td><td>467                                                       </td><td>People vs. Larry Flynt, The (1996)                        </td><td>1993                                                      </td></tr>\n",
       "\t<tr><th scope=row>3366</th><td>115                                                       </td><td>5.000000                                                  </td><td>328                                                       </td><td>Jackal, The (1997)                                        </td><td>1997                                                      </td></tr>\n",
       "\t<tr><th scope=row>37911</th><td>115                                                       </td><td>4.833028                                                  </td><td>614                                                       </td><td>Sunset Blvd. (1950)                                       </td><td>1955                                                      </td></tr>\n",
       "\t<tr><th scope=row>4541</th><td>115                                                       </td><td>4.380202                                                  </td><td>593                                                       </td><td>Spy Hard (1996)                                           </td><td>1996                                                      </td></tr>\n",
       "\t<tr><th scope=row>4956</th><td>115                                                       </td><td>5.000000                                                  </td><td>397                                                       </td><td>MatchMaker, The (1997)                                    </td><td>1994                                                      </td></tr>\n",
       "\t<tr><th scope=row>5611</th><td>115                                                       </td><td>4.499791                                                  </td><td>178                                                       </td><td>Desperate Measures (1998)                                 </td><td>1957                                                      </td></tr>\n",
       "\t<tr><th scope=row>6591</th><td>115                                                       </td><td>5.000000                                                  </td><td>204                                                       </td><td>Eddie (1996)                                              </td><td>1985                                                      </td></tr>\n",
       "\t<tr><th scope=row>6946</th><td>115                                                       </td><td>5.000000                                                  </td><td>168                                                       </td><td>Daylight (1996)                                           </td><td>1974                                                      </td></tr>\n",
       "\t<tr><th scope=row>71711</th><td>115                                                       </td><td>5.000000                                                  </td><td>222                                                       </td><td>Fallen (1998)                                             </td><td>1996                                                      </td></tr>\n",
       "\t<tr><th scope=row>8051</th><td>115                                                       </td><td>5.000000                                                  </td><td>606                                                       </td><td>Stealing Beauty (1996)                                    </td><td>1958                                                      </td></tr>\n",
       "\t<tr><th scope=row>8386</th><td>115                                                                                                   </td><td>5.000000                                                                                              </td><td> 72                                                                                                   </td><td><span style=white-space:pre-wrap>Benny &amp; Joon (1993)                                       </span></td><td>1994                                                                                                  </td></tr>\n",
       "\t<tr><th scope=row>87011</th><td>115                                                       </td><td>4.339214                                                  </td><td>396                                                       </td><td>Mask, The (1994)                                          </td><td>1993                                                      </td></tr>\n",
       "\t<tr><th scope=row>1152</th><td>130                                                       </td><td>5.000000                                                  </td><td>  5                                                       </td><td>20,000 Leagues Under the Sea (1954)                       </td><td>1995                                                      </td></tr>\n",
       "\t<tr><th scope=row>1607</th><td>130                                                       </td><td>5.000000                                                  </td><td>282                                                       </td><td>Great Escape, The (1963)                                  </td><td>1996                                                      </td></tr>\n",
       "\t<tr><th scope=row>24912</th><td>130                                                       </td><td>5.000000                                                  </td><td>677                                                       </td><td>Wedding Singer, The (1998)                                </td><td>1997                                                      </td></tr>\n",
       "\t<tr><th scope=row>2792</th><td>130                                                       </td><td>4.233855                                                  </td><td>  9                                                       </td><td>Abyss, The (1989)                                         </td><td>1995                                                      </td></tr>\n",
       "\t<tr><th scope=row>3367</th><td>130                                                       </td><td>5.000000                                                  </td><td>374                                                       </td><td>Lost Highway (1997)                                       </td><td>1994                                                      </td></tr>\n",
       "\t<tr><th scope=row>37912</th><td>130                                                       </td><td>4.828485                                                  </td><td>668                                                       </td><td>Vertigo (1958)                                            </td><td>1962                                                      </td></tr>\n",
       "\t<tr><th scope=row>4542</th><td>130                                                       </td><td>4.021407                                                  </td><td>459                                                       </td><td>One Fine Day (1996)                                       </td><td>1992                                                      </td></tr>\n",
       "\t<tr><th scope=row>4957</th><td>130                                                       </td><td>5.000000                                                  </td><td>400                                                       </td><td>McHale's Navy (1997)                                      </td><td>1989                                                      </td></tr>\n",
       "\t<tr><th scope=row>5612</th><td>130                                                       </td><td>4.477126                                                  </td><td>312                                                       </td><td>I Know What You Did Last Summer (1997)                    </td><td>1997                                                      </td></tr>\n",
       "\t<tr><th scope=row>6592</th><td>130                                                       </td><td>5.000000                                                  </td><td>312                                                       </td><td>I Know What You Did Last Summer (1997)                    </td><td>1997                                                      </td></tr>\n",
       "\t<tr><th scope=row>6947</th><td>130                                                       </td><td>5.000000                                                  </td><td>180                                                       </td><td>Devil's Own, The (1997)                                   </td><td>1979                                                      </td></tr>\n",
       "\t<tr><th scope=row>71712</th><td>130                                                       </td><td>5.000000                                                  </td><td>326                                                       </td><td>It Happened One Night (1934)                              </td><td>1997                                                      </td></tr>\n",
       "\t<tr><th scope=row>8052</th><td>130                                                       </td><td>4.652889                                                  </td><td>366                                                       </td><td>Like Water For Chocolate (Como agua para chocolate) (1992)</td><td>1996                                                      </td></tr>\n",
       "\t<tr><th scope=row>8387</th><td>130                                                       </td><td>5.000000                                                  </td><td>117                                                       </td><td>Casper (1995)                                             </td><td>1996                                                      </td></tr>\n",
       "\t<tr><th scope=row>87012</th><td>130                                                       </td><td>4.335120                                                  </td><td>480                                                       </td><td>Playing God (1997)                                        </td><td>1942                                                      </td></tr>\n",
       "\t<tr><th scope=row>...</th><td>...</td><td>...</td><td>...</td><td>...</td><td>...</td></tr>\n",
       "\t<tr><th scope=row>1604</th><td>911                                   </td><td>5.000000                              </td><td>152                                   </td><td>Cop Land (1997)                       </td><td>1973                                  </td></tr>\n",
       "\t<tr><th scope=row>2499</th><td>911                                   </td><td>5.000000                              </td><td>557                                   </td><td>Shadow, The (1994)                    </td><td>1994                                  </td></tr>\n",
       "\t<tr><th scope=row>26814</th><td>911                                   </td><td>4.176287                              </td><td>326                                   </td><td>It Happened One Night (1934)          </td><td>1997                                  </td></tr>\n",
       "\t<tr><th scope=row>3364</th><td>911                                   </td><td>5.000000                              </td><td>266                                   </td><td>Giant (1956)                          </td><td>1997                                  </td></tr>\n",
       "\t<tr><th scope=row>3799</th><td>911                                   </td><td>4.839323                              </td><td>692                                   </td><td>With Honors (1994)                    </td><td>1994                                  </td></tr>\n",
       "\t<tr><th scope=row>45314</th><td>911                                   </td><td>4.522892                              </td><td>  6                                   </td><td>2001: A Space Odyssey (1968)          </td><td>1995                                  </td></tr>\n",
       "\t<tr><th scope=row>4954</th><td>911                                   </td><td>5.000000                              </td><td>292                                   </td><td>Harriet the Spy (1996)                </td><td>1997                                  </td></tr>\n",
       "\t<tr><th scope=row>569</th><td>911                                   </td><td>4.512736                              </td><td>408                                   </td><td>Mimic (1997)                          </td><td>1996                                  </td></tr>\n",
       "\t<tr><th scope=row>65514</th><td>911                                   </td><td>3.504221                              </td><td>324                                   </td><td>It's a Wonderful Life (1946)          </td><td>1997                                  </td></tr>\n",
       "\t<tr><th scope=row>6944</th><td>911                                   </td><td>5.000000                              </td><td> 83                                   </td><td>Blue in the Face (1995)               </td><td>1993                                  </td></tr>\n",
       "\t<tr><th scope=row>7179</th><td>911                                   </td><td>5.000000                              </td><td>183                                   </td><td>Dial M for Murder (1954)              </td><td>1979                                  </td></tr>\n",
       "\t<tr><th scope=row>77414</th><td>911                                   </td><td>3.256880                              </td><td>496                                   </td><td>Quiet Man, The (1952)                 </td><td>1958                                  </td></tr>\n",
       "\t<tr><th scope=row>8384</th><td>911                                   </td><td>5.000000                              </td><td> 34                                   </td><td>Angels and Insects (1995)             </td><td>1995                                  </td></tr>\n",
       "\t<tr><th scope=row>8709</th><td>911                                   </td><td>4.369765                              </td><td>482                                   </td><td>Postino, Il (1994)                    </td><td>1964                                  </td></tr>\n",
       "\t<tr><th scope=row>92214</th><td>911                                   </td><td>4.398658                              </td><td> 46                                   </td><td>Arsenic and Old Lace (1944)           </td><td>1994                                  </td></tr>\n",
       "\t<tr><th scope=row>1605</th><td>922                                   </td><td>5.000000                              </td><td>217                                   </td><td>Evita (1996)                          </td><td>1992                                  </td></tr>\n",
       "\t<tr><th scope=row>24910</th><td>922                                   </td><td>5.000000                              </td><td>578                                   </td><td>Snow White and the Seven Dwarfs (1937)</td><td>1993                                  </td></tr>\n",
       "\t<tr><th scope=row>26815</th><td>922                                   </td><td>4.167491                              </td><td> 26                                   </td><td>All About Eve (1950)                  </td><td>1995                                  </td></tr>\n",
       "\t<tr><th scope=row>3365</th><td>922                                   </td><td>5.000000                              </td><td>317                                   </td><td>In the Company of Men (1997)          </td><td>1996                                  </td></tr>\n",
       "\t<tr><th scope=row>37910</th><td>922                                   </td><td>4.835208                              </td><td>574                                   </td><td>Sling Blade (1996)                    </td><td>1993                                  </td></tr>\n",
       "\t<tr><th scope=row>45315</th><td>922                                   </td><td>4.522264                              </td><td>524                                   </td><td>River Wild, The (1994)                </td><td>1984                                  </td></tr>\n",
       "\t<tr><th scope=row>4955</th><td>922                                   </td><td>5.000000                              </td><td>373                                   </td><td>Looking for Richard (1996)            </td><td>1994                                  </td></tr>\n",
       "\t<tr><th scope=row>5610</th><td>922                                   </td><td>4.499837                              </td><td>272                                   </td><td>Godfather: Part II, The (1974)        </td><td>1995                                  </td></tr>\n",
       "\t<tr><th scope=row>65515</th><td>922                                   </td><td>3.503430                              </td><td>341                                   </td><td>Jungle2Jungle (1997)                  </td><td>1997                                  </td></tr>\n",
       "\t<tr><th scope=row>6945</th><td>922                                   </td><td>5.000000                              </td><td> 92                                   </td><td>Brady Bunch Movie, The (1995)         </td><td>1993                                  </td></tr>\n",
       "\t<tr><th scope=row>71710</th><td>922                                   </td><td>5.000000                              </td><td>199                                   </td><td>Dumbo (1941)                          </td><td>1957                                  </td></tr>\n",
       "\t<tr><th scope=row>77415</th><td>922                                   </td><td>3.224698                              </td><td>630                                   </td><td>Third Man, The (1949)                 </td><td>1996                                  </td></tr>\n",
       "\t<tr><th scope=row>8385</th><td>922                                   </td><td>5.000000                              </td><td> 54                                   </td><td>Barcelona (1994)                      </td><td>1995                                  </td></tr>\n",
       "\t<tr><th scope=row>87010</th><td>922                                   </td><td>4.367578                              </td><td>527                                   </td><td>Robin Hood: Prince of Thieves (1991)  </td><td>1996                                  </td></tr>\n",
       "\t<tr><th scope=row>92215</th><td>922                                   </td><td>4.375142                              </td><td>270                                   </td><td>Glory (1989)                          </td><td>1997                                  </td></tr>\n",
       "</tbody>\n",
       "</table>\n"
      ],
      "text/latex": [
       "\\begin{tabular}{r|lllll}\n",
       "  & user & rating & index & item & year\\\\\n",
       "\\hline\n",
       "\t1151 & 115                                                        & 5.000000                                                   &   1                                                        & 101 Dalmatians (1996)                                      & 1995                                                      \\\\\n",
       "\t1606 & 115                                                        & 5.000000                                                   & 237                                                        & First Knight (1995)                                        & 1996                                                      \\\\\n",
       "\t24911 & 115                                                        & 5.000000                                                   & 591                                                        & Sphere (1998)                                              & 1996                                                      \\\\\n",
       "\t2791 & 115                                                        & 4.268087                                                   & 467                                                        & People vs. Larry Flynt, The (1996)                         & 1993                                                      \\\\\n",
       "\t3366 & 115                                                        & 5.000000                                                   & 328                                                        & Jackal, The (1997)                                         & 1997                                                      \\\\\n",
       "\t37911 & 115                                                        & 4.833028                                                   & 614                                                        & Sunset Blvd. (1950)                                        & 1955                                                      \\\\\n",
       "\t4541 & 115                                                        & 4.380202                                                   & 593                                                        & Spy Hard (1996)                                            & 1996                                                      \\\\\n",
       "\t4956 & 115                                                        & 5.000000                                                   & 397                                                        & MatchMaker, The (1997)                                     & 1994                                                      \\\\\n",
       "\t5611 & 115                                                        & 4.499791                                                   & 178                                                        & Desperate Measures (1998)                                  & 1957                                                      \\\\\n",
       "\t6591 & 115                                                        & 5.000000                                                   & 204                                                        & Eddie (1996)                                               & 1985                                                      \\\\\n",
       "\t6946 & 115                                                        & 5.000000                                                   & 168                                                        & Daylight (1996)                                            & 1974                                                      \\\\\n",
       "\t71711 & 115                                                        & 5.000000                                                   & 222                                                        & Fallen (1998)                                              & 1996                                                      \\\\\n",
       "\t8051 & 115                                                        & 5.000000                                                   & 606                                                        & Stealing Beauty (1996)                                     & 1958                                                      \\\\\n",
       "\t8386 & 115                                                          & 5.000000                                                     &  72                                                          & Benny \\& Joon (1993)                                        & 1994                                                        \\\\\n",
       "\t87011 & 115                                                        & 4.339214                                                   & 396                                                        & Mask, The (1994)                                           & 1993                                                      \\\\\n",
       "\t1152 & 130                                                        & 5.000000                                                   &   5                                                        & 20,000 Leagues Under the Sea (1954)                        & 1995                                                      \\\\\n",
       "\t1607 & 130                                                        & 5.000000                                                   & 282                                                        & Great Escape, The (1963)                                   & 1996                                                      \\\\\n",
       "\t24912 & 130                                                        & 5.000000                                                   & 677                                                        & Wedding Singer, The (1998)                                 & 1997                                                      \\\\\n",
       "\t2792 & 130                                                        & 4.233855                                                   &   9                                                        & Abyss, The (1989)                                          & 1995                                                      \\\\\n",
       "\t3367 & 130                                                        & 5.000000                                                   & 374                                                        & Lost Highway (1997)                                        & 1994                                                      \\\\\n",
       "\t37912 & 130                                                        & 4.828485                                                   & 668                                                        & Vertigo (1958)                                             & 1962                                                      \\\\\n",
       "\t4542 & 130                                                        & 4.021407                                                   & 459                                                        & One Fine Day (1996)                                        & 1992                                                      \\\\\n",
       "\t4957 & 130                                                        & 5.000000                                                   & 400                                                        & McHale's Navy (1997)                                       & 1989                                                      \\\\\n",
       "\t5612 & 130                                                        & 4.477126                                                   & 312                                                        & I Know What You Did Last Summer (1997)                     & 1997                                                      \\\\\n",
       "\t6592 & 130                                                        & 5.000000                                                   & 312                                                        & I Know What You Did Last Summer (1997)                     & 1997                                                      \\\\\n",
       "\t6947 & 130                                                        & 5.000000                                                   & 180                                                        & Devil's Own, The (1997)                                    & 1979                                                      \\\\\n",
       "\t71712 & 130                                                        & 5.000000                                                   & 326                                                        & It Happened One Night (1934)                               & 1997                                                      \\\\\n",
       "\t8052 & 130                                                        & 4.652889                                                   & 366                                                        & Like Water For Chocolate (Como agua para chocolate) (1992) & 1996                                                      \\\\\n",
       "\t8387 & 130                                                        & 5.000000                                                   & 117                                                        & Casper (1995)                                              & 1996                                                      \\\\\n",
       "\t87012 & 130                                                        & 4.335120                                                   & 480                                                        & Playing God (1997)                                         & 1942                                                      \\\\\n",
       "\t... & ... & ... & ... & ... & ...\\\\\n",
       "\t1604 & 911                                    & 5.000000                               & 152                                    & Cop Land (1997)                        & 1973                                  \\\\\n",
       "\t2499 & 911                                    & 5.000000                               & 557                                    & Shadow, The (1994)                     & 1994                                  \\\\\n",
       "\t26814 & 911                                    & 4.176287                               & 326                                    & It Happened One Night (1934)           & 1997                                  \\\\\n",
       "\t3364 & 911                                    & 5.000000                               & 266                                    & Giant (1956)                           & 1997                                  \\\\\n",
       "\t3799 & 911                                    & 4.839323                               & 692                                    & With Honors (1994)                     & 1994                                  \\\\\n",
       "\t45314 & 911                                    & 4.522892                               &   6                                    & 2001: A Space Odyssey (1968)           & 1995                                  \\\\\n",
       "\t4954 & 911                                    & 5.000000                               & 292                                    & Harriet the Spy (1996)                 & 1997                                  \\\\\n",
       "\t569 & 911                                    & 4.512736                               & 408                                    & Mimic (1997)                           & 1996                                  \\\\\n",
       "\t65514 & 911                                    & 3.504221                               & 324                                    & It's a Wonderful Life (1946)           & 1997                                  \\\\\n",
       "\t6944 & 911                                    & 5.000000                               &  83                                    & Blue in the Face (1995)                & 1993                                  \\\\\n",
       "\t7179 & 911                                    & 5.000000                               & 183                                    & Dial M for Murder (1954)               & 1979                                  \\\\\n",
       "\t77414 & 911                                    & 3.256880                               & 496                                    & Quiet Man, The (1952)                  & 1958                                  \\\\\n",
       "\t8384 & 911                                    & 5.000000                               &  34                                    & Angels and Insects (1995)              & 1995                                  \\\\\n",
       "\t8709 & 911                                    & 4.369765                               & 482                                    & Postino, Il (1994)                     & 1964                                  \\\\\n",
       "\t92214 & 911                                    & 4.398658                               &  46                                    & Arsenic and Old Lace (1944)            & 1994                                  \\\\\n",
       "\t1605 & 922                                    & 5.000000                               & 217                                    & Evita (1996)                           & 1992                                  \\\\\n",
       "\t24910 & 922                                    & 5.000000                               & 578                                    & Snow White and the Seven Dwarfs (1937) & 1993                                  \\\\\n",
       "\t26815 & 922                                    & 4.167491                               &  26                                    & All About Eve (1950)                   & 1995                                  \\\\\n",
       "\t3365 & 922                                    & 5.000000                               & 317                                    & In the Company of Men (1997)           & 1996                                  \\\\\n",
       "\t37910 & 922                                    & 4.835208                               & 574                                    & Sling Blade (1996)                     & 1993                                  \\\\\n",
       "\t45315 & 922                                    & 4.522264                               & 524                                    & River Wild, The (1994)                 & 1984                                  \\\\\n",
       "\t4955 & 922                                    & 5.000000                               & 373                                    & Looking for Richard (1996)             & 1994                                  \\\\\n",
       "\t5610 & 922                                    & 4.499837                               & 272                                    & Godfather: Part II, The (1974)         & 1995                                  \\\\\n",
       "\t65515 & 922                                    & 3.503430                               & 341                                    & Jungle2Jungle (1997)                   & 1997                                  \\\\\n",
       "\t6945 & 922                                    & 5.000000                               &  92                                    & Brady Bunch Movie, The (1995)          & 1993                                  \\\\\n",
       "\t71710 & 922                                    & 5.000000                               & 199                                    & Dumbo (1941)                           & 1957                                  \\\\\n",
       "\t77415 & 922                                    & 3.224698                               & 630                                    & Third Man, The (1949)                  & 1996                                  \\\\\n",
       "\t8385 & 922                                    & 5.000000                               &  54                                    & Barcelona (1994)                       & 1995                                  \\\\\n",
       "\t87010 & 922                                    & 4.367578                               & 527                                    & Robin Hood: Prince of Thieves (1991)   & 1996                                  \\\\\n",
       "\t92215 & 922                                    & 4.375142                               & 270                                    & Glory (1989)                           & 1997                                  \\\\\n",
       "\\end{tabular}\n"
      ],
      "text/markdown": [
       "\n",
       "| <!--/--> | user | rating | index | item | year |\n",
       "|---|---|---|---|---|---|\n",
       "| 1151 | 115                                                        | 5.000000                                                   |   1                                                        | 101 Dalmatians (1996)                                      | 1995                                                       |\n",
       "| 1606 | 115                                                        | 5.000000                                                   | 237                                                        | First Knight (1995)                                        | 1996                                                       |\n",
       "| 24911 | 115                                                        | 5.000000                                                   | 591                                                        | Sphere (1998)                                              | 1996                                                       |\n",
       "| 2791 | 115                                                        | 4.268087                                                   | 467                                                        | People vs. Larry Flynt, The (1996)                         | 1993                                                       |\n",
       "| 3366 | 115                                                        | 5.000000                                                   | 328                                                        | Jackal, The (1997)                                         | 1997                                                       |\n",
       "| 37911 | 115                                                        | 4.833028                                                   | 614                                                        | Sunset Blvd. (1950)                                        | 1955                                                       |\n",
       "| 4541 | 115                                                        | 4.380202                                                   | 593                                                        | Spy Hard (1996)                                            | 1996                                                       |\n",
       "| 4956 | 115                                                        | 5.000000                                                   | 397                                                        | MatchMaker, The (1997)                                     | 1994                                                       |\n",
       "| 5611 | 115                                                        | 4.499791                                                   | 178                                                        | Desperate Measures (1998)                                  | 1957                                                       |\n",
       "| 6591 | 115                                                        | 5.000000                                                   | 204                                                        | Eddie (1996)                                               | 1985                                                       |\n",
       "| 6946 | 115                                                        | 5.000000                                                   | 168                                                        | Daylight (1996)                                            | 1974                                                       |\n",
       "| 71711 | 115                                                        | 5.000000                                                   | 222                                                        | Fallen (1998)                                              | 1996                                                       |\n",
       "| 8051 | 115                                                        | 5.000000                                                   | 606                                                        | Stealing Beauty (1996)                                     | 1958                                                       |\n",
       "| 8386 | 115                                                        | 5.000000                                                   |  72                                                        | Benny & Joon (1993)                                        | 1994                                                       |\n",
       "| 87011 | 115                                                        | 4.339214                                                   | 396                                                        | Mask, The (1994)                                           | 1993                                                       |\n",
       "| 1152 | 130                                                        | 5.000000                                                   |   5                                                        | 20,000 Leagues Under the Sea (1954)                        | 1995                                                       |\n",
       "| 1607 | 130                                                        | 5.000000                                                   | 282                                                        | Great Escape, The (1963)                                   | 1996                                                       |\n",
       "| 24912 | 130                                                        | 5.000000                                                   | 677                                                        | Wedding Singer, The (1998)                                 | 1997                                                       |\n",
       "| 2792 | 130                                                        | 4.233855                                                   |   9                                                        | Abyss, The (1989)                                          | 1995                                                       |\n",
       "| 3367 | 130                                                        | 5.000000                                                   | 374                                                        | Lost Highway (1997)                                        | 1994                                                       |\n",
       "| 37912 | 130                                                        | 4.828485                                                   | 668                                                        | Vertigo (1958)                                             | 1962                                                       |\n",
       "| 4542 | 130                                                        | 4.021407                                                   | 459                                                        | One Fine Day (1996)                                        | 1992                                                       |\n",
       "| 4957 | 130                                                        | 5.000000                                                   | 400                                                        | McHale's Navy (1997)                                       | 1989                                                       |\n",
       "| 5612 | 130                                                        | 4.477126                                                   | 312                                                        | I Know What You Did Last Summer (1997)                     | 1997                                                       |\n",
       "| 6592 | 130                                                        | 5.000000                                                   | 312                                                        | I Know What You Did Last Summer (1997)                     | 1997                                                       |\n",
       "| 6947 | 130                                                        | 5.000000                                                   | 180                                                        | Devil's Own, The (1997)                                    | 1979                                                       |\n",
       "| 71712 | 130                                                        | 5.000000                                                   | 326                                                        | It Happened One Night (1934)                               | 1997                                                       |\n",
       "| 8052 | 130                                                        | 4.652889                                                   | 366                                                        | Like Water For Chocolate (Como agua para chocolate) (1992) | 1996                                                       |\n",
       "| 8387 | 130                                                        | 5.000000                                                   | 117                                                        | Casper (1995)                                              | 1996                                                       |\n",
       "| 87012 | 130                                                        | 4.335120                                                   | 480                                                        | Playing God (1997)                                         | 1942                                                       |\n",
       "| ... | ... | ... | ... | ... | ... |\n",
       "| 1604 | 911                                    | 5.000000                               | 152                                    | Cop Land (1997)                        | 1973                                   |\n",
       "| 2499 | 911                                    | 5.000000                               | 557                                    | Shadow, The (1994)                     | 1994                                   |\n",
       "| 26814 | 911                                    | 4.176287                               | 326                                    | It Happened One Night (1934)           | 1997                                   |\n",
       "| 3364 | 911                                    | 5.000000                               | 266                                    | Giant (1956)                           | 1997                                   |\n",
       "| 3799 | 911                                    | 4.839323                               | 692                                    | With Honors (1994)                     | 1994                                   |\n",
       "| 45314 | 911                                    | 4.522892                               |   6                                    | 2001: A Space Odyssey (1968)           | 1995                                   |\n",
       "| 4954 | 911                                    | 5.000000                               | 292                                    | Harriet the Spy (1996)                 | 1997                                   |\n",
       "| 569 | 911                                    | 4.512736                               | 408                                    | Mimic (1997)                           | 1996                                   |\n",
       "| 65514 | 911                                    | 3.504221                               | 324                                    | It's a Wonderful Life (1946)           | 1997                                   |\n",
       "| 6944 | 911                                    | 5.000000                               |  83                                    | Blue in the Face (1995)                | 1993                                   |\n",
       "| 7179 | 911                                    | 5.000000                               | 183                                    | Dial M for Murder (1954)               | 1979                                   |\n",
       "| 77414 | 911                                    | 3.256880                               | 496                                    | Quiet Man, The (1952)                  | 1958                                   |\n",
       "| 8384 | 911                                    | 5.000000                               |  34                                    | Angels and Insects (1995)              | 1995                                   |\n",
       "| 8709 | 911                                    | 4.369765                               | 482                                    | Postino, Il (1994)                     | 1964                                   |\n",
       "| 92214 | 911                                    | 4.398658                               |  46                                    | Arsenic and Old Lace (1944)            | 1994                                   |\n",
       "| 1605 | 922                                    | 5.000000                               | 217                                    | Evita (1996)                           | 1992                                   |\n",
       "| 24910 | 922                                    | 5.000000                               | 578                                    | Snow White and the Seven Dwarfs (1937) | 1993                                   |\n",
       "| 26815 | 922                                    | 4.167491                               |  26                                    | All About Eve (1950)                   | 1995                                   |\n",
       "| 3365 | 922                                    | 5.000000                               | 317                                    | In the Company of Men (1997)           | 1996                                   |\n",
       "| 37910 | 922                                    | 4.835208                               | 574                                    | Sling Blade (1996)                     | 1993                                   |\n",
       "| 45315 | 922                                    | 4.522264                               | 524                                    | River Wild, The (1994)                 | 1984                                   |\n",
       "| 4955 | 922                                    | 5.000000                               | 373                                    | Looking for Richard (1996)             | 1994                                   |\n",
       "| 5610 | 922                                    | 4.499837                               | 272                                    | Godfather: Part II, The (1974)         | 1995                                   |\n",
       "| 65515 | 922                                    | 3.503430                               | 341                                    | Jungle2Jungle (1997)                   | 1997                                   |\n",
       "| 6945 | 922                                    | 5.000000                               |  92                                    | Brady Bunch Movie, The (1995)          | 1993                                   |\n",
       "| 71710 | 922                                    | 5.000000                               | 199                                    | Dumbo (1941)                           | 1957                                   |\n",
       "| 77415 | 922                                    | 3.224698                               | 630                                    | Third Man, The (1949)                  | 1996                                   |\n",
       "| 8385 | 922                                    | 5.000000                               |  54                                    | Barcelona (1994)                       | 1995                                   |\n",
       "| 87010 | 922                                    | 4.367578                               | 527                                    | Robin Hood: Prince of Thieves (1991)   | 1996                                   |\n",
       "| 92215 | 922                                    | 4.375142                               | 270                                    | Glory (1989)                           | 1997                                   |\n",
       "\n"
      ],
      "text/plain": [
       "      user rating   index\n",
       "1151  115  5.000000   1  \n",
       "1606  115  5.000000 237  \n",
       "24911 115  5.000000 591  \n",
       "2791  115  4.268087 467  \n",
       "3366  115  5.000000 328  \n",
       "37911 115  4.833028 614  \n",
       "4541  115  4.380202 593  \n",
       "4956  115  5.000000 397  \n",
       "5611  115  4.499791 178  \n",
       "6591  115  5.000000 204  \n",
       "6946  115  5.000000 168  \n",
       "71711 115  5.000000 222  \n",
       "8051  115  5.000000 606  \n",
       "8386  115  5.000000  72  \n",
       "87011 115  4.339214 396  \n",
       "1152  130  5.000000   5  \n",
       "1607  130  5.000000 282  \n",
       "24912 130  5.000000 677  \n",
       "2792  130  4.233855   9  \n",
       "3367  130  5.000000 374  \n",
       "37912 130  4.828485 668  \n",
       "4542  130  4.021407 459  \n",
       "4957  130  5.000000 400  \n",
       "5612  130  4.477126 312  \n",
       "6592  130  5.000000 312  \n",
       "6947  130  5.000000 180  \n",
       "71712 130  5.000000 326  \n",
       "8052  130  4.652889 366  \n",
       "8387  130  5.000000 117  \n",
       "87012 130  4.335120 480  \n",
       "...   ...  ...      ...  \n",
       "1604  911  5.000000 152  \n",
       "2499  911  5.000000 557  \n",
       "26814 911  4.176287 326  \n",
       "3364  911  5.000000 266  \n",
       "3799  911  4.839323 692  \n",
       "45314 911  4.522892   6  \n",
       "4954  911  5.000000 292  \n",
       "569   911  4.512736 408  \n",
       "65514 911  3.504221 324  \n",
       "6944  911  5.000000  83  \n",
       "7179  911  5.000000 183  \n",
       "77414 911  3.256880 496  \n",
       "8384  911  5.000000  34  \n",
       "8709  911  4.369765 482  \n",
       "92214 911  4.398658  46  \n",
       "1605  922  5.000000 217  \n",
       "24910 922  5.000000 578  \n",
       "26815 922  4.167491  26  \n",
       "3365  922  5.000000 317  \n",
       "37910 922  4.835208 574  \n",
       "45315 922  4.522264 524  \n",
       "4955  922  5.000000 373  \n",
       "5610  922  4.499837 272  \n",
       "65515 922  3.503430 341  \n",
       "6945  922  5.000000  92  \n",
       "71710 922  5.000000 199  \n",
       "77415 922  3.224698 630  \n",
       "8385  922  5.000000  54  \n",
       "87010 922  4.367578 527  \n",
       "92215 922  4.375142 270  \n",
       "      item                                                       year\n",
       "1151  101 Dalmatians (1996)                                      1995\n",
       "1606  First Knight (1995)                                        1996\n",
       "24911 Sphere (1998)                                              1996\n",
       "2791  People vs. Larry Flynt, The (1996)                         1993\n",
       "3366  Jackal, The (1997)                                         1997\n",
       "37911 Sunset Blvd. (1950)                                        1955\n",
       "4541  Spy Hard (1996)                                            1996\n",
       "4956  MatchMaker, The (1997)                                     1994\n",
       "5611  Desperate Measures (1998)                                  1957\n",
       "6591  Eddie (1996)                                               1985\n",
       "6946  Daylight (1996)                                            1974\n",
       "71711 Fallen (1998)                                              1996\n",
       "8051  Stealing Beauty (1996)                                     1958\n",
       "8386  Benny & Joon (1993)                                        1994\n",
       "87011 Mask, The (1994)                                           1993\n",
       "1152  20,000 Leagues Under the Sea (1954)                        1995\n",
       "1607  Great Escape, The (1963)                                   1996\n",
       "24912 Wedding Singer, The (1998)                                 1997\n",
       "2792  Abyss, The (1989)                                          1995\n",
       "3367  Lost Highway (1997)                                        1994\n",
       "37912 Vertigo (1958)                                             1962\n",
       "4542  One Fine Day (1996)                                        1992\n",
       "4957  McHale's Navy (1997)                                       1989\n",
       "5612  I Know What You Did Last Summer (1997)                     1997\n",
       "6592  I Know What You Did Last Summer (1997)                     1997\n",
       "6947  Devil's Own, The (1997)                                    1979\n",
       "71712 It Happened One Night (1934)                               1997\n",
       "8052  Like Water For Chocolate (Como agua para chocolate) (1992) 1996\n",
       "8387  Casper (1995)                                              1996\n",
       "87012 Playing God (1997)                                         1942\n",
       "...   ...                                                        ... \n",
       "1604  Cop Land (1997)                                            1973\n",
       "2499  Shadow, The (1994)                                         1994\n",
       "26814 It Happened One Night (1934)                               1997\n",
       "3364  Giant (1956)                                               1997\n",
       "3799  With Honors (1994)                                         1994\n",
       "45314 2001: A Space Odyssey (1968)                               1995\n",
       "4954  Harriet the Spy (1996)                                     1997\n",
       "569   Mimic (1997)                                               1996\n",
       "65514 It's a Wonderful Life (1946)                               1997\n",
       "6944  Blue in the Face (1995)                                    1993\n",
       "7179  Dial M for Murder (1954)                                   1979\n",
       "77414 Quiet Man, The (1952)                                      1958\n",
       "8384  Angels and Insects (1995)                                  1995\n",
       "8709  Postino, Il (1994)                                         1964\n",
       "92214 Arsenic and Old Lace (1944)                                1994\n",
       "1605  Evita (1996)                                               1992\n",
       "24910 Snow White and the Seven Dwarfs (1937)                     1993\n",
       "26815 All About Eve (1950)                                       1995\n",
       "3365  In the Company of Men (1997)                               1996\n",
       "37910 Sling Blade (1996)                                         1993\n",
       "45315 River Wild, The (1994)                                     1984\n",
       "4955  Looking for Richard (1996)                                 1994\n",
       "5610  Godfather: Part II, The (1974)                             1995\n",
       "65515 Jungle2Jungle (1997)                                       1997\n",
       "6945  Brady Bunch Movie, The (1995)                              1993\n",
       "71710 Dumbo (1941)                                               1957\n",
       "77415 Third Man, The (1949)                                      1996\n",
       "8385  Barcelona (1994)                                           1995\n",
       "87010 Robin Hood: Prince of Thieves (1991)                       1996\n",
       "92215 Glory (1989)                                               1997"
      ]
     },
     "metadata": {},
     "output_type": "display_data"
    }
   ],
   "source": [
    "top_n_to_df(top_n)"
   ]
  },
  {
   "cell_type": "code",
   "execution_count": 441,
   "id": "d44844b4-b703-4d6a-8e91-ee4ee4691a5d",
   "metadata": {},
   "outputs": [],
   "source": [
    "top_n_to_df <- function(top_n){\n",
    "  #' @description Function to transform a TopNList object to a data.frame object.\n",
    "  #' @param topn Topn List\n",
    "  topn_df <- data.frame(user = names(as(top_n, 'list')), \n",
    "    rating = unlist(top_n@ratings), index = unlist(top_n@items))\n",
    "\n",
    "  topn_df$item <- top_n@itemLabels[topn_df$index]\n",
    "  topn_df$year <- MovieLenseMeta$year[topn_df$index]\n",
    "  topn_df <- topn_df[order(topn_df$user),]\n",
    "  topn_df\n",
    "}\n",
    "\n",
    "calc_coverage <- function(top_n, n_movies=1664){\n",
    "  #' @description Function, which returns coverage \n",
    "  #' @param top_n Top_n list generated by `recommenderlab::predict`\n",
    "  #' @param n_movies How many total movies there are. In the MovielenseDB, there are 1664 Movies.\n",
    "  top_n = as(top_n, 'list')\n",
    "  unique_pred_movies = unique(unlist(top_n, recursive = FALSE))\n",
    "  n_unique_pred_movies = length(unique_pred_movies)\n",
    "    \n",
    "  return (n_unique_pred_movies / n_movies)\n",
    "}\n",
    "\n",
    "calc_popularity <- function(MovieLenseData, n_movies=1664){\n",
    "  #' @description Function, which returns coverage as described here: https://ds-spaces.technik.fhnw.ch/6rsy/2021/05/02/recommender-system-evaluierung-coverage-und-novelty/\n",
    "  #' @param MovieLenseData Movielense data.frame, containing how a user has rated a movie.\n",
    "  #' @param n_movies How many total movies there are. In the MovielenseDB, there are 1664 Movies.\n",
    "  \n",
    "  popularity_movie <- MovieLenseData %>%\n",
    "    count(item) %>%\n",
    "    mutate(popularity = log2(n / n_movies)) %>%\n",
    "    select(item, popularity)\n",
    "  return (popularity_movie)\n",
    "  \n",
    "}\n",
    "calc_novelty <- function(top_n, MovieLenseData, n_movies=1664){\n",
    "  #' @description Function, which returns novelty as described here: https://ds-spaces.technik.fhnw.ch/6rsy/2021/05/02/recommender-system-evaluierung-coverage-und-novelty/\n",
    "  #' @param top_n Top_n list generated by `recommenderlab::predict`\n",
    "  #' @param MovieLenseData MovieLense Dataset as data.frame\n",
    "  #' @param n_movies How many total movies there are. In the MovielenseDB, there are 1664 Movies.\n",
    "  popularity = calc_popularity(MovieLenseData, n_movies) \n",
    "  \n",
    "  top_n_df <- top_n_to_df(top_n)\n",
    "    \n",
    "  group_size_user = top_n_df %>%\n",
    "    group_by(user) %>%\n",
    "    summarise(n = n()) %>%\n",
    "    select(user, n)\n",
    "  \n",
    "  top_n_df <- top_n_df %>%\n",
    "    left_join(group_size_user, by = 'user')\n",
    "  \n",
    "  top_n_popularity_df <- top_n_df %>%\n",
    "    inner_join(popularity, by = 'item') %>%\n",
    "    mutate(popularity = popularity / n)\n",
    "  \n",
    "  novelty = sum(top_n_popularity_df$popularity)\n",
    "  \n",
    "  S = length(unique(MovieLenseData$user))\n",
    "  \n",
    "  novelty = - 1 / S * novelty\n",
    "  \n",
    "  return (novelty)\n",
    "}"
   ]
  },
  {
   "cell_type": "code",
   "execution_count": 442,
   "id": "4697fc75-cd8d-4164-a1de-22bd82f57428",
   "metadata": {},
   "outputs": [],
   "source": [
    "top_n = predict(object = IBCF_reduced, newdata = getData(eval_reduced, \"unknown\"), n = 15)"
   ]
  },
  {
   "cell_type": "code",
   "execution_count": 443,
   "id": "a46620c6-843d-4582-8d6a-6148ab159e3e",
   "metadata": {},
   "outputs": [
    {
     "data": {
      "text/html": [
       "0.308293269230769"
      ],
      "text/latex": [
       "0.308293269230769"
      ],
      "text/markdown": [
       "0.308293269230769"
      ],
      "text/plain": [
       "[1] 0.3082933"
      ]
     },
     "metadata": {},
     "output_type": "display_data"
    },
    {
     "data": {
      "text/html": [
       "0.356611864879244"
      ],
      "text/latex": [
       "0.356611864879244"
      ],
      "text/markdown": [
       "0.356611864879244"
      ],
      "text/plain": [
       "[1] 0.3566119"
      ]
     },
     "metadata": {},
     "output_type": "display_data"
    }
   ],
   "source": [
    "calc_coverage(top_n)\n",
    "calc_novelty(top_n, MovieLense_df)"
   ]
  },
  {
   "cell_type": "code",
   "execution_count": 444,
   "id": "5c029363-ee70-4420-9044-7a5e7fae9a44",
   "metadata": {},
   "outputs": [
    {
     "name": "stdout",
     "output_type": "stream",
     "text": [
      "[1] \"N:  5\"\n",
      "[1] \"Coverage:  0.150841346153846\"\n",
      "[1] \"Novelty:  0.36566404904635\"\n",
      "[1] \"N:  10\"\n",
      "[1] \"Coverage:  0.246394230769231\"\n",
      "[1] \"Novelty:  0.360403937068437\"\n",
      "[1] \"N:  15\"\n",
      "[1] \"Coverage:  0.308293269230769\"\n",
      "[1] \"Novelty:  0.356611864879244\"\n",
      "[1] \"N:  20\"\n",
      "[1] \"Coverage:  0.341947115384615\"\n",
      "[1] \"Novelty:  0.356017022268193\"\n",
      "[1] \"N:  25\"\n",
      "[1] \"Coverage:  0.365384615384615\"\n",
      "[1] \"Novelty:  0.354361922543304\"\n"
     ]
    }
   ],
   "source": [
    "# Test coverage and novelty on 5, 10, 15, 20, 25 and 30 top_n predictions.\n",
    "n_list = c(5, 10, 15, 20, 25)\n",
    "\n",
    "for(n in n_list){\n",
    "    IBCF_reduced <- Recommender(data = getData(eval_reduced, \"train\"), method = \"IBCF\", \n",
    "                            parameter = list(method = \"Cosine\", na_as_zero=TRUE))\n",
    "    \n",
    "    top_n = predict(object = IBCF_reduced, newdata = getData(eval_reduced, \"unknown\"), n = n)\n",
    "    print(paste(\"N: \", n))\n",
    "    print(paste(\"Coverage: \", calc_coverage(top_n)))\n",
    "    print(paste(\"Novelty: \", calc_novelty(top_n, MovieLense_df)))\n",
    "}\n"
   ]
  },
  {
   "cell_type": "code",
   "execution_count": 29,
   "id": "63f55d39-0d2e-4867-94b4-2e1b213c4934",
   "metadata": {},
   "outputs": [],
   "source": [
    "avg_to_df <- function(evlist, n){\n",
    "  #' @description gets the confusion matices from `evlist` and transforms it to a single data.frame\n",
    "  #' @param evlist evaluationResultList\n",
    "  #' @return data.frame confusion matrix with all recommenders as rec and number of recommendations as n\n",
    "  evaluation_avg <- data.frame()\n",
    "  for (i in 1:length(evlist)){\n",
    "    current_avg <- as.data.frame(avg(evlist[i]))\n",
    "    colnames(current_avg) <- c('TP','FP','FN','TN','N', 'precision','recall','TPR','FPR', 'n')\n",
    "    current_avg$specificity <- current_avg$TN * (current_avg$TN + current_avg$FP)**-1\n",
    "    current_avg$n <- n\n",
    "    rownames(current_avg) <- NULL\n",
    "    current_avg$rec <- names(evlist)[i]\n",
    "    evaluation_avg <- rbind(evaluation_avg, current_avg)\n",
    "  }\n",
    "  return(evaluation_avg)\n",
    "}\n",
    "plot_percision_recall <- function(evaluation_avg){\n",
    "  #' @description plots the percision recall curve with the according number of predictions\n",
    "  #' @param evaluation_avg data.frame from avg_to_df\n",
    "  ggplot(evaluation_avg, aes(x=precision, y=recall, label=n)) +\n",
    "    geom_line(aes(color=rec)) +\n",
    "    geom_text() +\n",
    "    scale_color_manual(values=1:length(evaluation_avg)) +\n",
    "    ggtitle('Precision Recall Curve') +\n",
    "    xlab('precision') +\n",
    "    ylab('recall')\n",
    "}\n"
   ]
  },
  {
   "cell_type": "code",
   "execution_count": 30,
   "id": "9a45a4eb-4c97-4783-bae6-b228815ab06c",
   "metadata": {},
   "outputs": [
    {
     "data": {
      "text/html": [
       "<table>\n",
       "<thead><tr><th scope=col>TP</th><th scope=col>FP</th><th scope=col>FN</th><th scope=col>TN</th><th scope=col>N</th><th scope=col>precision</th><th scope=col>recall</th><th scope=col>TPR</th><th scope=col>FPR</th><th scope=col>n</th><th scope=col>specificity</th><th scope=col>rec</th></tr></thead>\n",
       "<tbody>\n",
       "\t<tr><td>0.4375       </td><td> 3.0750      </td><td>93.8000      </td><td>599.6875     </td><td>697          </td><td>0.1206897    </td><td>0.004076108  </td><td>0.004076108  </td><td>0.005162324  </td><td> 5           </td><td>0.9948985    </td><td>item-based CF</td></tr>\n",
       "\t<tr><td>0.8250       </td><td> 5.8375      </td><td>93.4125      </td><td>596.9250     </td><td>697          </td><td>0.1236932    </td><td>0.008777698  </td><td>0.008777698  </td><td>0.009812757  </td><td>10           </td><td>0.9903154    </td><td>item-based CF</td></tr>\n",
       "\t<tr><td>1.1625       </td><td> 8.1750      </td><td>93.0750      </td><td>594.5875     </td><td>697          </td><td>0.1256545    </td><td>0.012001559  </td><td>0.012001559  </td><td>0.013713702  </td><td>15           </td><td>0.9864374    </td><td>item-based CF</td></tr>\n",
       "\t<tr><td>1.3250       </td><td>10.1375      </td><td>92.9125      </td><td>592.6250     </td><td>697          </td><td>0.1201162    </td><td>0.013621682  </td><td>0.013621682  </td><td>0.016997515  </td><td>20           </td><td>0.9831816    </td><td>item-based CF</td></tr>\n",
       "\t<tr><td>1.5875       </td><td>11.7250      </td><td>92.6500      </td><td>591.0375     </td><td>697          </td><td>0.1241880    </td><td>0.016155094  </td><td>0.016155094  </td><td>0.019631753  </td><td>25           </td><td>0.9805479    </td><td>item-based CF</td></tr>\n",
       "\t<tr><td>1.8000       </td><td>13.2000      </td><td>92.4375      </td><td>589.5625     </td><td>697          </td><td>0.1258483    </td><td>0.018573566  </td><td>0.018573566  </td><td>0.022086072  </td><td>30           </td><td>0.9781008    </td><td>item-based CF</td></tr>\n",
       "</tbody>\n",
       "</table>\n"
      ],
      "text/latex": [
       "\\begin{tabular}{r|llllllllllll}\n",
       " TP & FP & FN & TN & N & precision & recall & TPR & FPR & n & specificity & rec\\\\\n",
       "\\hline\n",
       "\t 0.4375        &  3.0750       & 93.8000       & 599.6875      & 697           & 0.1206897     & 0.004076108   & 0.004076108   & 0.005162324   &  5            & 0.9948985     & item-based CF\\\\\n",
       "\t 0.8250        &  5.8375       & 93.4125       & 596.9250      & 697           & 0.1236932     & 0.008777698   & 0.008777698   & 0.009812757   & 10            & 0.9903154     & item-based CF\\\\\n",
       "\t 1.1625        &  8.1750       & 93.0750       & 594.5875      & 697           & 0.1256545     & 0.012001559   & 0.012001559   & 0.013713702   & 15            & 0.9864374     & item-based CF\\\\\n",
       "\t 1.3250        & 10.1375       & 92.9125       & 592.6250      & 697           & 0.1201162     & 0.013621682   & 0.013621682   & 0.016997515   & 20            & 0.9831816     & item-based CF\\\\\n",
       "\t 1.5875        & 11.7250       & 92.6500       & 591.0375      & 697           & 0.1241880     & 0.016155094   & 0.016155094   & 0.019631753   & 25            & 0.9805479     & item-based CF\\\\\n",
       "\t 1.8000        & 13.2000       & 92.4375       & 589.5625      & 697           & 0.1258483     & 0.018573566   & 0.018573566   & 0.022086072   & 30            & 0.9781008     & item-based CF\\\\\n",
       "\\end{tabular}\n"
      ],
      "text/markdown": [
       "\n",
       "| TP | FP | FN | TN | N | precision | recall | TPR | FPR | n | specificity | rec |\n",
       "|---|---|---|---|---|---|---|---|---|---|---|---|\n",
       "| 0.4375        |  3.0750       | 93.8000       | 599.6875      | 697           | 0.1206897     | 0.004076108   | 0.004076108   | 0.005162324   |  5            | 0.9948985     | item-based CF |\n",
       "| 0.8250        |  5.8375       | 93.4125       | 596.9250      | 697           | 0.1236932     | 0.008777698   | 0.008777698   | 0.009812757   | 10            | 0.9903154     | item-based CF |\n",
       "| 1.1625        |  8.1750       | 93.0750       | 594.5875      | 697           | 0.1256545     | 0.012001559   | 0.012001559   | 0.013713702   | 15            | 0.9864374     | item-based CF |\n",
       "| 1.3250        | 10.1375       | 92.9125       | 592.6250      | 697           | 0.1201162     | 0.013621682   | 0.013621682   | 0.016997515   | 20            | 0.9831816     | item-based CF |\n",
       "| 1.5875        | 11.7250       | 92.6500       | 591.0375      | 697           | 0.1241880     | 0.016155094   | 0.016155094   | 0.019631753   | 25            | 0.9805479     | item-based CF |\n",
       "| 1.8000        | 13.2000       | 92.4375       | 589.5625      | 697           | 0.1258483     | 0.018573566   | 0.018573566   | 0.022086072   | 30            | 0.9781008     | item-based CF |\n",
       "\n"
      ],
      "text/plain": [
       "  TP     FP      FN      TN       N   precision recall      TPR        \n",
       "1 0.4375  3.0750 93.8000 599.6875 697 0.1206897 0.004076108 0.004076108\n",
       "2 0.8250  5.8375 93.4125 596.9250 697 0.1236932 0.008777698 0.008777698\n",
       "3 1.1625  8.1750 93.0750 594.5875 697 0.1256545 0.012001559 0.012001559\n",
       "4 1.3250 10.1375 92.9125 592.6250 697 0.1201162 0.013621682 0.013621682\n",
       "5 1.5875 11.7250 92.6500 591.0375 697 0.1241880 0.016155094 0.016155094\n",
       "6 1.8000 13.2000 92.4375 589.5625 697 0.1258483 0.018573566 0.018573566\n",
       "  FPR         n  specificity rec          \n",
       "1 0.005162324  5 0.9948985   item-based CF\n",
       "2 0.009812757 10 0.9903154   item-based CF\n",
       "3 0.013713702 15 0.9864374   item-based CF\n",
       "4 0.016997515 20 0.9831816   item-based CF\n",
       "5 0.019631753 25 0.9805479   item-based CF\n",
       "6 0.022086072 30 0.9781008   item-based CF"
      ]
     },
     "metadata": {},
     "output_type": "display_data"
    }
   ],
   "source": [
    "avg_to_df(results, n)"
   ]
  },
  {
   "cell_type": "markdown",
   "id": "eec62764-6462-4a3a-8750-b47fa40fe625",
   "metadata": {},
   "source": [
    "## Implementierung Top-N Monitor\n",
    "Aufgabe DIY: Untersuche die relative Übereinstimmung zwischen Top-\n",
    "N Empfehlungen und präferierten Filmen für 4 unterschiedliche \n",
    "Modelle (z.B. IBCF und UBCF mit unterschiedlichen  Ähnlichkeits-\n",
    "metriken / Nachbarschaften sowie SVD mit unterschiedlicher \n",
    "Dimensionalitätsreduktion).\n",
    "\n",
    "### 1.Fixiere 20 zufällig gewählte Testkunden für alle Modellvergleiche"
   ]
  },
  {
   "cell_type": "code",
   "execution_count": 445,
   "id": "4b8671b4-3220-4423-b0ee-558d599aacd7",
   "metadata": {},
   "outputs": [],
   "source": [
    "set.seed(SEED)\n",
    "random_user_idx = floor(runif(20, min=0, max=nrow(test)+1))\n",
    "test_user_selected = getData(eval_reduced, \"unknown\")[random_user_idx]"
   ]
  },
  {
   "cell_type": "markdown",
   "id": "ebc9706a-4d35-49a3-8ba8-2b565b0d663c",
   "metadata": {},
   "source": [
    "### 2.Bestimme den Anteil der Top-N Empfehlung nach Genres pro Kunde\n",
    "Zuerst schauen wir, basierend auf Precision, Recall, Novelty und Coverage, welche Modelle überhaupt interessant sind."
   ]
  },
  {
   "cell_type": "code",
   "execution_count": 446,
   "id": "a2db16e9-8c61-4443-bdac-ea76123544c3",
   "metadata": {},
   "outputs": [],
   "source": [
    "# Random Users:\n",
    "set.seed(42)\n",
    "test = getData(eval_reduced, \"unknown\")\n",
    "n = c(5, 10, 15, 20, 25, 30) # How many movies should be predicted (top n).\n",
    "\n",
    "algorithms <- list(\n",
    "    \"IBCF, z-score, cos\" = list(name=\"IBCF\", param=list(normalize = \"Z-score\",\n",
    "                                                   method = 'cosine')),\n",
    "    \"IBCF, z-score, jac\" = list(name=\"IBCF\", param=list(normalize = \"Z-score\",\n",
    "                                                   method = 'jaccard')),\n",
    "    \"IBCF, center, cos\" = list(name=\"IBCF\", param=list(normalize = \"center\",\n",
    "                                                 method = 'cosine')),\n",
    "    \"IBCF, center, jac\" = list(name=\"IBCF\", param=list(normalize = \"center\",\n",
    "                                                 method = 'jaccard')),\n",
    "    \"UBCF, z-score, cos\" = list(name=\"UBCF\", param=list(normalize = \"Z-score\",\n",
    "                                                   method = 'cosine')),\n",
    "    \"UBCF, z-score, jac\" = list(name=\"UBCF\", param=list(normalize = \"Z-score\",\n",
    "                                                   method = 'jaccard')),\n",
    "    \"UBCF, center, cos\" = list(name=\"UBCF\", param=list(normalize = \"center\",\n",
    "                                                 method = 'cosine')),\n",
    "    \"UBCF, center, jac\" = list(name=\"UBCF\", param=list(normalize = \"center\",\n",
    "                                                       method = 'jaccard')), \n",
    "    \"SVD, 1\" = list(name='SVD', param=list(k=1)),\n",
    "    \"SVD, 5\" = list(name='SVD', param=list(k=5)),\n",
    "    \"SVD, 10\" = list(name='SVD', param=list(k=10)),\n",
    "    \"SVD, 20\" = list(name='SVD', param=list(k=20))\n",
    ")\n"
   ]
  },
  {
   "cell_type": "code",
   "execution_count": 447,
   "id": "03642811-0d07-4a0e-a047-2b359ef07d1d",
   "metadata": {},
   "outputs": [
    {
     "name": "stderr",
     "output_type": "stream",
     "text": [
      "Warning message in coerce(MovieLense_user_movies_reduced_df, MovieLense):\n",
      "\"direct use of coerce() is deprecated:  use as(from, class(to)) instead\""
     ]
    },
    {
     "name": "stdout",
     "output_type": "stream",
     "text": [
      "IBCF run fold/sample [model time/prediction time]\n",
      "\t 1  [1.22sec/0.01sec] \n",
      "IBCF run fold/sample [model time/prediction time]\n",
      "\t 1  [1.24sec/0.02sec] \n",
      "IBCF run fold/sample [model time/prediction time]\n",
      "\t 1  [1.24sec/0.01sec] \n",
      "IBCF run fold/sample [model time/prediction time]\n",
      "\t 1  [1.17sec/0.02sec] \n",
      "UBCF run fold/sample [model time/prediction time]\n",
      "\t 1  [0sec/0.13sec] \n",
      "UBCF run fold/sample [model time/prediction time]\n",
      "\t 1  [0sec/0.13sec] \n",
      "UBCF run fold/sample [model time/prediction time]\n",
      "\t 1  [0sec/0.12sec] \n",
      "UBCF run fold/sample [model time/prediction time]\n",
      "\t 1  [0sec/0.12sec] \n",
      "SVD run fold/sample [model time/prediction time]\n",
      "\t 1  "
     ]
    },
    {
     "name": "stderr",
     "output_type": "stream",
     "text": [
      "Timing stopped at: 0 0 0\n"
     ]
    },
    {
     "name": "stdout",
     "output_type": "stream",
     "text": [
      "Error in r_a %*% model$svd$v %*% diag(1/model$svd$d) : \n",
      "  non-conformable arguments\n",
      "SVD run fold/sample [model time/prediction time]\n",
      "\t 1  [0.01sec/0.03sec] \n",
      "SVD run fold/sample [model time/prediction time]\n",
      "\t 1  [0.03sec/0.14sec] \n",
      "SVD run fold/sample [model time/prediction time]\n",
      "\t 1  [0.05sec/0.02sec] \n"
     ]
    },
    {
     "name": "stderr",
     "output_type": "stream",
     "text": [
      "Warning message in .local(x, method, ...):\n",
      "\"\n",
      "  Recommender 'SVD, 1' has failed and has been removed from the results!\""
     ]
    },
    {
     "data": {
      "image/png": "[encoded data removed]",
      "text/plain": [
       "plot without title"
      ]
     },
     "metadata": {},
     "output_type": "display_data"
    },
    {
     "data": {
      "image/png": "[encoded data removed]",
      "text/plain": [
       "plot without title"
      ]
     },
     "metadata": {},
     "output_type": "display_data"
    }
   ],
   "source": [
    "set.seed(SEED)\n",
    "# Let's check some algorithms against each other\n",
    "scheme <- recommenderlab::evaluationScheme(coerce(MovieLense_user_movies_reduced_df,MovieLense) , method = \"split\", train = 0.8,\n",
    "                          given = 3, goodRating = 4)\n",
    "\n",
    "\n",
    "# run algorithms, predict next n movies\n",
    "n = c(3, 5, 10, 15, 20, 25, 30)\n",
    "results <- evaluate(scheme, algorithms, n=n)\n",
    "\n",
    "# Draw ROC curve\n",
    "plot(results, annotate = 1:4, legend=\"topleft\")\n",
    "\n",
    "# See precision / recall\n",
    "plot(results, \"prec/rec\", annotate=3)"
   ]
  },
  {
   "cell_type": "code",
   "execution_count": 477,
   "id": "4f5d411a-18fc-4e24-9e29-3f4d89af356d",
   "metadata": {},
   "outputs": [
    {
     "name": "stderr",
     "output_type": "stream",
     "text": [
      "Warning message in coerce(MovieLense_user_movies_reduced_df, MovieLense):\n",
      "\"direct use of coerce() is deprecated:  use as(from, class(to)) instead\""
     ]
    }
   ],
   "source": [
    "set.seed(SEED)\n",
    "eval_reduced <- recommenderlab::evaluationScheme(data = coerce(MovieLense_user_movies_reduced_df, MovieLense), \n",
    "                                                 method=\"split\", train=0.8, given=3)\n",
    "\n",
    "\n",
    "recommender <- Recommender(data = getData(eval_reduced, \"train\"), method = \"IBCF\", \n",
    "                            parameter = list( method = \"Cosine\", na_as_zero=TRUE))\n",
    "\n",
    "top_n = predict(recommender, test_user_selected, n=15)"
   ]
  },
  {
   "cell_type": "code",
   "execution_count": 480,
   "id": "ea3a363e-27dd-4d0e-be80-90b3904a01bc",
   "metadata": {},
   "outputs": [],
   "source": [
    "top_n_genres <- function(top_n, Movie_Genre){\n",
    "    #' @algorithms top_n generated by recommenderlab::predict\n",
    "    #' @Movie_Genre Movie_Genre melted MovieLenseData, containing at least the genre and the title of a movie\n",
    "    #' @returns genres of users in the top_n list\n",
    "    top_n = top_n_to_df(top_n)\n",
    "    Movie_Genre$item = Movie_Genre$title\n",
    "    genres_top_n <- top_n %>%\n",
    "        left_join(Movie_Genre, by='item') %>%\n",
    "        group_by(user, genre)  %>%\n",
    "        summarise(n = n()) %>% \n",
    "        mutate(percent =  100 *n/sum(n))\n",
    "    return (genres_top_n)\n",
    "}"
   ]
  },
  {
   "cell_type": "code",
   "execution_count": 481,
   "id": "810d77f3-1b0c-468f-a677-6f85c97ffb6c",
   "metadata": {},
   "outputs": [
    {
     "name": "stderr",
     "output_type": "stream",
     "text": [
      "`summarise()` has grouped output by 'user'. You can override using the `.groups` argument.\n"
     ]
    }
   ],
   "source": [
    "top_n_genre = top_n_genres(top_n, Movie_Genre)"
   ]
  },
  {
   "cell_type": "code",
   "execution_count": 482,
   "id": "6a47c388-b81b-4d2a-b63c-3549b0ab3cbb",
   "metadata": {},
   "outputs": [
    {
     "data": {
      "image/png": "[encoded data removed]",
      "text/plain": [
       "plot without title"
      ]
     },
     "metadata": {},
     "output_type": "display_data"
    }
   ],
   "source": [
    "ggplot(top_n_genre, aes(x = user, y = percent, fill = genre)) +\n",
    " geom_col() + labs(title = \"IBCF: Genre of highly rated Movies per User in the Top N list\")"
   ]
  },
  {
   "cell_type": "code",
   "execution_count": 487,
   "id": "bfa0e67c-4b24-46c2-8315-482f6e1430bc",
   "metadata": {},
   "outputs": [
    {
     "name": "stderr",
     "output_type": "stream",
     "text": [
      "Warning message in coerce(MovieLense_user_movies_reduced_df, MovieLense):\n",
      "\"direct use of coerce() is deprecated:  use as(from, class(to)) instead\"`summarise()` has grouped output by 'user'. You can override using the `.groups` argument.\n"
     ]
    }
   ],
   "source": [
    "set.seed(SEED)\n",
    "eval_reduced <- recommenderlab::evaluationScheme(data = coerce(MovieLense_user_movies_reduced_df, MovieLense), \n",
    "                                                 method=\"split\", train=0.8, given=3)\n",
    "\n",
    "\n",
    "recommender <- Recommender(data = getData(eval_reduced, \"train\"), method = \"UBCF\", \n",
    "                            parameter = list(nn = 25, method = \"Cosine\"))\n",
    "\n",
    "top_n = predict(recommender, test_user_selected, n=15)\n",
    "top_n_genre = top_n_genres(top_n, Movie_Genre)"
   ]
  },
  {
   "cell_type": "code",
   "execution_count": 488,
   "id": "766fdf6c-77c8-4e62-b2ed-d279bb0ce28a",
   "metadata": {},
   "outputs": [
    {
     "data": {
      "image/png": "[encoded data removed]",
      "text/plain": [
       "plot without title"
      ]
     },
     "metadata": {},
     "output_type": "display_data"
    }
   ],
   "source": [
    "ggplot(top_n_genre, aes(x = user, y = percent, fill = genre)) +\n",
    " geom_col() + labs(title = \"UBCF: Genre of highly rated Movies per User in the Top N list\")"
   ]
  },
  {
   "cell_type": "markdown",
   "id": "b2111a0d-d465-4461-8333-3f55628cd5e3",
   "metadata": {},
   "source": [
    "3. Bestimme pro Kunde den Anteil nach Genres seiner Top-Filme (=Filme, \n",
    "welche vom Kunden die besten Bewertungen erhalten haben),"
   ]
  },
  {
   "cell_type": "code",
   "execution_count": 414,
   "id": "2d888ee8-2712-4c0d-b84e-c042e1b17ae5",
   "metadata": {},
   "outputs": [],
   "source": [
    "fav_genre_of_users <- function(random_user_idx, MovieLenseData, Movie_Genre, top_rating=4){\n",
    "    #' @random_user_idx vector with random ints\n",
    "    #' @param MovieLenseData Movielense data.frame, containing how a user has rated a movie.\n",
    "    #' @param Movie_Genre melted MovieLenseData, containing at least the genre and the title of a movie\n",
    "    #' @top_rating min rating to consider a movie a top movie for a user (inclusive)\n",
    "    #' @param returns a data.frame with the genres of top rated movies by the user. \n",
    "    test_user_selected = as(names(as(test_user_selected, 'list')), 'matrix') # Ugly code is beautiful too.\n",
    "    Movie_Genre$item = Movie_Genre$title\n",
    "    user_top_genres <- MovieLenseData %>%\n",
    "        filter(user %in% test_user_selected) %>%\n",
    "        filter(rating >= top_rating) %>%\n",
    "        left_join(Movie_Genre, by = \"item\")  %>%\n",
    "        group_by(user, genre)  %>%\n",
    "        summarise(n = n()) %>% \n",
    "        mutate(percent =  100 *n/sum(n))\n",
    "        #select(user, genre, n)\n",
    "    return (user_top_genres)\n",
    "}"
   ]
  },
  {
   "cell_type": "code",
   "execution_count": 415,
   "id": "d0b205ce-f3ad-44e6-98d7-de878103d6c8",
   "metadata": {},
   "outputs": [
    {
     "name": "stderr",
     "output_type": "stream",
     "text": [
      "`summarise()` has grouped output by 'user'. You can override using the `.groups` argument.\n"
     ]
    }
   ],
   "source": [
    "fav_genres = fav_genre_of_users(test_user_selected, MovieLense_df, Movie_Genre)"
   ]
  },
  {
   "cell_type": "code",
   "execution_count": 416,
   "id": "3196da95-9b68-4e6a-ac7c-adf3135e7ecc",
   "metadata": {},
   "outputs": [
    {
     "data": {
      "image/png": "[encoded data removed]",
      "text/plain": [
       "plot without title"
      ]
     },
     "metadata": {},
     "output_type": "display_data"
    }
   ],
   "source": [
    "ggplot(fav_genres, aes(x = user, y = percent, fill = genre)) +\n",
    " geom_col() + labs(title = \"Genre of highly rated Movies per User\")\n",
    " #scale_y_continuous(labels = percentage)"
   ]
  },
  {
   "cell_type": "code",
   "execution_count": null,
   "id": "57990d8c-ad7a-4401-9cbf-65264d4eb33c",
   "metadata": {},
   "outputs": [],
   "source": []
  }
 ],
 "metadata": {
  "kernelspec": {
   "display_name": "R",
   "language": "R",
   "name": "ir"
  },
  "language_info": {
   "codemirror_mode": "r",
   "file_extension": ".r",
   "mimetype": "text/x-r-source",
   "name": "R",
   "pygments_lexer": "r",
   "version": "3.6.1"
  }
 },
 "nbformat": 4,
 "nbformat_minor": 5
}
